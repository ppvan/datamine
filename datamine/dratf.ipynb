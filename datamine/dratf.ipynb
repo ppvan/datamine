{
 "cells": [
  {
   "cell_type": "markdown",
   "metadata": {},
   "source": [
    "**Table of contents**<a id='toc0_'></a>    \n",
    "- [Load dữ liệu từ các thư mục train và dev](#toc1_)    \n",
    "- [Pha huấn luyện](#toc2_)    \n",
    "  - [Task1: Nhận diện câu so sánh](#toc2_1_)    \n",
    "    - [Embbeding các câu trong dữ liệu huấn luyện](#toc2_1_1_)    \n",
    "    - [Embbedding các nhãn](#toc2_1_2_)    \n",
    "    - [Huấn luyện model](#toc2_1_3_)    \n",
    "    - [Đánh giá model](#toc2_1_4_)    \n",
    "    - [Chạy thử một vài ví dụ](#toc2_1_5_)    \n",
    "  - [Task 2: Extract đầy đủ cái đặc trưng của phép so sánh.](#toc2_2_)    \n",
    "    - [Tiền xử lý](#toc2_2_1_)    \n",
    "    - [Huấn luyện model](#toc2_2_2_)    \n",
    "- [Pha suy luận (dự đoán)](#toc3_)    \n",
    "  - [Task 1: Liệu câu có so sánh hay không?](#toc3_1_)    \n",
    "    - [Dự đoán nhãn](#toc3_1_1_)    \n",
    "    - [Hậu xử lý](#toc3_1_2_)    \n",
    "  - [Task 2: Chi tiết các vật thể được so sánh](#toc3_2_)    \n",
    "    - [Dự đoán](#toc3_2_1_)    \n",
    "    - [Hậu xử lý](#toc3_2_2_)    \n",
    "- [Tổng hợp và lưu dữ liệu](#toc4_)    \n",
    "\n",
    "<!-- vscode-jupyter-toc-config\n",
    "\tnumbering=false\n",
    "\tanchor=true\n",
    "\tflat=false\n",
    "\tminLevel=1\n",
    "\tmaxLevel=6\n",
    "\t/vscode-jupyter-toc-config -->\n",
    "<!-- THIS CELL WILL BE REPLACED ON TOC UPDATE. DO NOT WRITE YOUR TEXT IN THIS CELL -->"
   ]
  },
  {
   "cell_type": "markdown",
   "metadata": {},
   "source": [
    "# <a id='toc1_'></a>[Load dữ liệu từ các thư mục train và dev](#toc0_)\n",
    "\n",
    "> Dữ liệu được parse và format thành các Record (datatypes.py)"
   ]
  },
  {
   "cell_type": "code",
   "execution_count": 21,
   "metadata": {},
   "outputs": [
    {
     "name": "stdout",
     "output_type": "stream",
     "text": [
      "trainset[:3]=[Record(original='Title: Review iPhone 14: Thiết kế, hiệu năng, camera và pin', sentence='Title : Review iPhone 14 : Thiết kế , hiệu năng , camera và pin', quintuples=[], comparative=['No']), Record(original='iPhone 14 được ra mắt vào 09/2022, được đánh giá là chỉ nâng cấp nhẹ về phần cứng cũng như phần mềm so với thế hệ trước.', sentence='iPhone 14 được ra mắt vào 09 / 2022 , được đánh giá là chỉ nâng cấp nhẹ về phần cứng cũng như phần mềm so với thế hệ trước .', quintuples=[{'subject': ['1&&iPhone', '2&&14'], 'object': ['28&&thế', '29&&hệ', '30&&trước'], 'aspect': ['20&&phần', '21&&cứng'], 'predicate': ['16&&nâng', '17&&cấp', '18&&nhẹ'], 'label': 'COM+'}, {'subject': ['1&&iPhone', '2&&14'], 'object': ['28&&thế', '29&&hệ', '30&&trước'], 'aspect': ['24&&phần', '25&&mềm'], 'predicate': ['16&&nâng', '17&&cấp', '18&&nhẹ'], 'label': 'COM+'}], comparative=['COM+', 'COM+']), Record(original='Về ngoại hình thì cũng có rất ít sự khác biệt so với thế hệ tiền nhiệm.', sentence='Về ngoại hình thì cũng có rất ít sự khác biệt so với thế hệ tiền nhiệm .', quintuples=[{'subject': [], 'object': ['14&&thế', '15&&hệ', '16&&tiền', '17&&nhiệm'], 'aspect': ['2&&ngoại', '3&&hình'], 'predicate': ['7&&rất', '8&&ít', '9&&sự', '10&&khác', '11&&biệt'], 'label': 'EQL'}], comparative=['EQL'])]\n",
      "devset[:3]=[Record(original='title: So sánh iPhone 13 Pro Max và Samsung Galaxy Z Fold3 - Nên mua máy nào?', sentence='title : So sánh iPhone 13 Pro Max và Samsung Galaxy Z Fold3 - Nên mua máy nào ?', quintuples=[], comparative=['No']), Record(original='iPhone 13 Pro Max và Samsung Galaxy Z Fold3 là hai \"chiến mã\" của hai ông lớn  Apple  và  Samsung  thường được cộng đồng công nghệ đưa ra so sánh.', sentence='iPhone 13 Pro Max và Samsung Galaxy Z Fold3 là hai \" chiến mã \" của hai ông lớn Apple và Samsung thường được cộng đồng công nghệ đưa ra so sánh .', quintuples=[], comparative=['No']), Record(original='Cùng xem bài viết để xem đâu là  điện thoại  được đánh giá cao hơn nhé!', sentence='Cùng xem bài viết để xem đâu là điện thoại được đánh giá cao hơn nhé !', quintuples=[], comparative=['No'])]\n"
     ]
    }
   ],
   "source": [
    "%load_ext autoreload\n",
    "%autoreload 2\n",
    "\n",
    "from dataloader import DataLoader\n",
    "\n",
    "trainset = DataLoader.load_data(\"../data/train\")\n",
    "devset = DataLoader.load_data(\"../data/dev\")\n",
    "\n",
    "print(f\"{trainset[:3]=}\")\n",
    "print(f\"{devset[:3]=}\")\n"
   ]
  },
  {
   "cell_type": "markdown",
   "metadata": {},
   "source": [
    "# <a id='toc2_'></a>[Pha huấn luyện](#toc0_)\n",
    "\n",
    "## <a id='toc2_1_'></a>[Task1: Nhận diện câu so sánh](#toc0_)\n",
    "\n",
    "Phương pháp: Sử dụng model RandomForest để nhận diện đa nhãn (do mỗi câu có thể nhiều câu so sánh)\n",
    "- Embbeding các câu và label\n",
    "- Huấn luyện model sử dụng dữ liệu dạng vector ở bước trên"
   ]
  },
  {
   "cell_type": "markdown",
   "metadata": {},
   "source": [
    "### <a id='toc2_1_1_'></a>[Embbeding các câu trong dữ liệu huấn luyện](#toc0_)"
   ]
  },
  {
   "cell_type": "code",
   "execution_count": 2,
   "metadata": {},
   "outputs": [
    {
     "name": "stdout",
     "output_type": "stream",
     "text": [
      "(4171, 2464)\n"
     ]
    }
   ],
   "source": [
    "from sklearn.feature_extraction.text import TfidfVectorizer\n",
    "\n",
    "tfidf_vec = TfidfVectorizer()\n",
    "\n",
    "sentences = [record.sentence for record in trainset]\n",
    "embeded_sentences = tfidf_vec.fit_transform(sentences)\n",
    "\n",
    "print(embeded_sentences.shape)"
   ]
  },
  {
   "cell_type": "markdown",
   "metadata": {},
   "source": [
    "### <a id='toc2_1_2_'></a>[Embbedding các nhãn](#toc0_)"
   ]
  },
  {
   "cell_type": "code",
   "execution_count": 3,
   "metadata": {},
   "outputs": [],
   "source": [
    "from sklearn.preprocessing import MultiLabelBinarizer\n",
    "\n",
    "labels = [record.comparative for record in trainset]\n",
    "label_classes = [\"No\", \"DIF\", \"EQL\", \"SUP+\", \"SUP-\", \"SUP\", \"COM+\", \"COM-\", \"COM\"]\n",
    "\n",
    "multilabel_model = MultiLabelBinarizer(classes=label_classes)\n",
    "embeded_labels = multilabel_model.fit_transform(labels)"
   ]
  },
  {
   "cell_type": "markdown",
   "metadata": {},
   "source": [
    "### <a id='toc2_1_3_'></a>[Huấn luyện model](#toc0_)"
   ]
  },
  {
   "cell_type": "code",
   "execution_count": 4,
   "metadata": {},
   "outputs": [],
   "source": [
    "from sklearn.ensemble import RandomForestClassifier\n",
    "from sklearn.model_selection import train_test_split\n",
    "from sklearn.metrics import accuracy_score, classification_report\n",
    "from imblearn.over_sampling import RandomOverSampler\n",
    "\n",
    "x_train, x_val, y_train, y_val = train_test_split(embeded_sentences, embeded_labels, test_size=0.2)\n"
   ]
  },
  {
   "cell_type": "code",
   "execution_count": 5,
   "metadata": {},
   "outputs": [
    {
     "name": "stdout",
     "output_type": "stream",
     "text": [
      "x_train.shape=(3336, 2464)\n",
      "x_train.shape=(3336, 2464)\n",
      "[[1 0 0 0 0 0 0 0 0]\n",
      " [0 0 0 0 0 0 1 0 0]\n",
      " [0 0 1 0 0 0 0 0 0]\n",
      " [1 0 0 0 0 0 0 0 0]\n",
      " [1 0 0 0 0 0 0 0 0]\n",
      " [1 0 0 0 0 0 0 0 0]\n",
      " [1 0 0 0 0 0 0 0 0]\n",
      " [1 0 0 0 0 0 0 0 0]\n",
      " [1 0 0 0 0 0 0 0 0]\n",
      " [1 0 0 0 0 0 0 0 0]]\n"
     ]
    }
   ],
   "source": [
    "print(f\"{x_train.shape=}\")\n",
    "print(f\"{x_train.shape=}\")\n",
    "print(embeded_labels[:10])"
   ]
  },
  {
   "cell_type": "code",
   "execution_count": 6,
   "metadata": {},
   "outputs": [
    {
     "data": {
      "text/html": [
       "<style>#sk-container-id-1 {color: black;background-color: white;}#sk-container-id-1 pre{padding: 0;}#sk-container-id-1 div.sk-toggleable {background-color: white;}#sk-container-id-1 label.sk-toggleable__label {cursor: pointer;display: block;width: 100%;margin-bottom: 0;padding: 0.3em;box-sizing: border-box;text-align: center;}#sk-container-id-1 label.sk-toggleable__label-arrow:before {content: \"▸\";float: left;margin-right: 0.25em;color: #696969;}#sk-container-id-1 label.sk-toggleable__label-arrow:hover:before {color: black;}#sk-container-id-1 div.sk-estimator:hover label.sk-toggleable__label-arrow:before {color: black;}#sk-container-id-1 div.sk-toggleable__content {max-height: 0;max-width: 0;overflow: hidden;text-align: left;background-color: #f0f8ff;}#sk-container-id-1 div.sk-toggleable__content pre {margin: 0.2em;color: black;border-radius: 0.25em;background-color: #f0f8ff;}#sk-container-id-1 input.sk-toggleable__control:checked~div.sk-toggleable__content {max-height: 200px;max-width: 100%;overflow: auto;}#sk-container-id-1 input.sk-toggleable__control:checked~label.sk-toggleable__label-arrow:before {content: \"▾\";}#sk-container-id-1 div.sk-estimator input.sk-toggleable__control:checked~label.sk-toggleable__label {background-color: #d4ebff;}#sk-container-id-1 div.sk-label input.sk-toggleable__control:checked~label.sk-toggleable__label {background-color: #d4ebff;}#sk-container-id-1 input.sk-hidden--visually {border: 0;clip: rect(1px 1px 1px 1px);clip: rect(1px, 1px, 1px, 1px);height: 1px;margin: -1px;overflow: hidden;padding: 0;position: absolute;width: 1px;}#sk-container-id-1 div.sk-estimator {font-family: monospace;background-color: #f0f8ff;border: 1px dotted black;border-radius: 0.25em;box-sizing: border-box;margin-bottom: 0.5em;}#sk-container-id-1 div.sk-estimator:hover {background-color: #d4ebff;}#sk-container-id-1 div.sk-parallel-item::after {content: \"\";width: 100%;border-bottom: 1px solid gray;flex-grow: 1;}#sk-container-id-1 div.sk-label:hover label.sk-toggleable__label {background-color: #d4ebff;}#sk-container-id-1 div.sk-serial::before {content: \"\";position: absolute;border-left: 1px solid gray;box-sizing: border-box;top: 0;bottom: 0;left: 50%;z-index: 0;}#sk-container-id-1 div.sk-serial {display: flex;flex-direction: column;align-items: center;background-color: white;padding-right: 0.2em;padding-left: 0.2em;position: relative;}#sk-container-id-1 div.sk-item {position: relative;z-index: 1;}#sk-container-id-1 div.sk-parallel {display: flex;align-items: stretch;justify-content: center;background-color: white;position: relative;}#sk-container-id-1 div.sk-item::before, #sk-container-id-1 div.sk-parallel-item::before {content: \"\";position: absolute;border-left: 1px solid gray;box-sizing: border-box;top: 0;bottom: 0;left: 50%;z-index: -1;}#sk-container-id-1 div.sk-parallel-item {display: flex;flex-direction: column;z-index: 1;position: relative;background-color: white;}#sk-container-id-1 div.sk-parallel-item:first-child::after {align-self: flex-end;width: 50%;}#sk-container-id-1 div.sk-parallel-item:last-child::after {align-self: flex-start;width: 50%;}#sk-container-id-1 div.sk-parallel-item:only-child::after {width: 0;}#sk-container-id-1 div.sk-dashed-wrapped {border: 1px dashed gray;margin: 0 0.4em 0.5em 0.4em;box-sizing: border-box;padding-bottom: 0.4em;background-color: white;}#sk-container-id-1 div.sk-label label {font-family: monospace;font-weight: bold;display: inline-block;line-height: 1.2em;}#sk-container-id-1 div.sk-label-container {text-align: center;}#sk-container-id-1 div.sk-container {/* jupyter's `normalize.less` sets `[hidden] { display: none; }` but bootstrap.min.css set `[hidden] { display: none !important; }` so we also need the `!important` here to be able to override the default hidden behavior on the sphinx rendered scikit-learn.org. See: https://github.com/scikit-learn/scikit-learn/issues/21755 */display: inline-block !important;position: relative;}#sk-container-id-1 div.sk-text-repr-fallback {display: none;}</style><div id=\"sk-container-id-1\" class=\"sk-top-container\"><div class=\"sk-text-repr-fallback\"><pre>MultiOutputClassifier(estimator=RandomForestClassifier(class_weight=&#x27;balanced&#x27;,\n",
       "                                                       criterion=&#x27;entropy&#x27;,\n",
       "                                                       max_depth=10,\n",
       "                                                       n_estimators=500))</pre><b>In a Jupyter environment, please rerun this cell to show the HTML representation or trust the notebook. <br />On GitHub, the HTML representation is unable to render, please try loading this page with nbviewer.org.</b></div><div class=\"sk-container\" hidden><div class=\"sk-item sk-dashed-wrapped\"><div class=\"sk-label-container\"><div class=\"sk-label sk-toggleable\"><input class=\"sk-toggleable__control sk-hidden--visually\" id=\"sk-estimator-id-1\" type=\"checkbox\" ><label for=\"sk-estimator-id-1\" class=\"sk-toggleable__label sk-toggleable__label-arrow\">MultiOutputClassifier</label><div class=\"sk-toggleable__content\"><pre>MultiOutputClassifier(estimator=RandomForestClassifier(class_weight=&#x27;balanced&#x27;,\n",
       "                                                       criterion=&#x27;entropy&#x27;,\n",
       "                                                       max_depth=10,\n",
       "                                                       n_estimators=500))</pre></div></div></div><div class=\"sk-parallel\"><div class=\"sk-parallel-item\"><div class=\"sk-item\"><div class=\"sk-label-container\"><div class=\"sk-label sk-toggleable\"><input class=\"sk-toggleable__control sk-hidden--visually\" id=\"sk-estimator-id-2\" type=\"checkbox\" ><label for=\"sk-estimator-id-2\" class=\"sk-toggleable__label sk-toggleable__label-arrow\">estimator: RandomForestClassifier</label><div class=\"sk-toggleable__content\"><pre>RandomForestClassifier(class_weight=&#x27;balanced&#x27;, criterion=&#x27;entropy&#x27;,\n",
       "                       max_depth=10, n_estimators=500)</pre></div></div></div><div class=\"sk-serial\"><div class=\"sk-item\"><div class=\"sk-estimator sk-toggleable\"><input class=\"sk-toggleable__control sk-hidden--visually\" id=\"sk-estimator-id-3\" type=\"checkbox\" ><label for=\"sk-estimator-id-3\" class=\"sk-toggleable__label sk-toggleable__label-arrow\">RandomForestClassifier</label><div class=\"sk-toggleable__content\"><pre>RandomForestClassifier(class_weight=&#x27;balanced&#x27;, criterion=&#x27;entropy&#x27;,\n",
       "                       max_depth=10, n_estimators=500)</pre></div></div></div></div></div></div></div></div></div></div>"
      ],
      "text/plain": [
       "MultiOutputClassifier(estimator=RandomForestClassifier(class_weight='balanced',\n",
       "                                                       criterion='entropy',\n",
       "                                                       max_depth=10,\n",
       "                                                       n_estimators=500))"
      ]
     },
     "execution_count": 6,
     "metadata": {},
     "output_type": "execute_result"
    }
   ],
   "source": [
    "from sklearn.multioutput import MultiOutputClassifier\n",
    "\n",
    "randomforest_model = RandomForestClassifier(n_estimators = 500, criterion = 'entropy',max_depth = 10, class_weight='balanced')\n",
    "multioutput_classifier = MultiOutputClassifier(randomforest_model)\n",
    "multioutput_classifier.fit(x_train, y_train)"
   ]
  },
  {
   "cell_type": "markdown",
   "metadata": {},
   "source": [
    "### <a id='toc2_1_4_'></a>[Đánh giá model](#toc0_)"
   ]
  },
  {
   "cell_type": "code",
   "execution_count": 7,
   "metadata": {},
   "outputs": [
    {
     "name": "stdout",
     "output_type": "stream",
     "text": [
      "Accuracy =  0.8011976047904191\n",
      "              precision    recall  f1-score   support\n",
      "\n",
      "           0       0.94      0.91      0.92       673\n",
      "           1       0.00      0.00      0.00         7\n",
      "           2       0.62      0.48      0.54        52\n",
      "           3       0.67      0.27      0.38        15\n",
      "           4       0.00      0.00      0.00         0\n",
      "           5       0.00      0.00      0.00         0\n",
      "           6       0.60      0.63      0.61        73\n",
      "           7       1.00      0.11      0.19        19\n",
      "           8       0.00      0.00      0.00         3\n",
      "\n",
      "   micro avg       0.88      0.82      0.85       842\n",
      "   macro avg       0.43      0.27      0.29       842\n",
      "weighted avg       0.87      0.82      0.84       842\n",
      " samples avg       0.82      0.82      0.82       842\n",
      "\n"
     ]
    },
    {
     "name": "stderr",
     "output_type": "stream",
     "text": [
      "/home/ppvan/Documents/code/academic/data-mining/datamine/.venv/lib/python3.10/site-packages/sklearn/metrics/_classification.py:1344: UndefinedMetricWarning: Precision and F-score are ill-defined and being set to 0.0 in labels with no predicted samples. Use `zero_division` parameter to control this behavior.\n",
      "  _warn_prf(average, modifier, msg_start, len(result))\n",
      "/home/ppvan/Documents/code/academic/data-mining/datamine/.venv/lib/python3.10/site-packages/sklearn/metrics/_classification.py:1344: UndefinedMetricWarning: Recall and F-score are ill-defined and being set to 0.0 in labels with no true samples. Use `zero_division` parameter to control this behavior.\n",
      "  _warn_prf(average, modifier, msg_start, len(result))\n",
      "/home/ppvan/Documents/code/academic/data-mining/datamine/.venv/lib/python3.10/site-packages/sklearn/metrics/_classification.py:1344: UndefinedMetricWarning: Precision and F-score are ill-defined and being set to 0.0 in samples with no predicted labels. Use `zero_division` parameter to control this behavior.\n",
      "  _warn_prf(average, modifier, msg_start, len(result))\n"
     ]
    }
   ],
   "source": [
    "y_preds = multioutput_classifier.predict(x_val)\n",
    "\n",
    "print('Accuracy = ', accuracy_score(y_val, y_preds))\n",
    "report = classification_report(y_val, y_preds)\n",
    "print(report)"
   ]
  },
  {
   "cell_type": "markdown",
   "metadata": {},
   "source": [
    "### <a id='toc2_1_5_'></a>[Chạy thử một vài ví dụ](#toc0_)"
   ]
  },
  {
   "cell_type": "code",
   "execution_count": 8,
   "metadata": {},
   "outputs": [
    {
     "name": "stdout",
     "output_type": "stream",
     "text": [
      "[('COM+',)]\n",
      "[[0 0 0 0 0 0 1 0 0]]\n"
     ]
    }
   ],
   "source": [
    "sample_sentence = \"Dù là chip \\\" xịn xò \\\" nhất so với các điện thoại Android nhưng khi so sánh với iPhone iPhone 13 Pro Max có phần chiếm ưu thế hơn .\"\n",
    "embeded_sentence = tfidf_vec.transform([sample_sentence])\n",
    "prediction = multioutput_classifier.predict(embeded_sentence)\n",
    "print(multilabel_model.inverse_transform(prediction))\n",
    "print(prediction)"
   ]
  },
  {
   "cell_type": "markdown",
   "metadata": {},
   "source": [
    "## <a id='toc2_2_'></a>[Task 2: Extract đầy đủ cái đặc trưng của phép so sánh.](#toc0_)\n",
    "\n",
    "**Phương pháp** : Conditional Random Fields (CRF)\n",
    "\n",
    "Sử dụng kĩ thuật POSTag để dự đoán thành phần trong câu, từ đó suy ra các chủ thể của phép so sánh.\n",
    "\n",
    "=> Xác định được POS-tag của từng từ trong câu.\n",
    "=> Xác định được entity(subject, object), aspect, predicate\n",
    "\n",
    "Ví dụ: Javascript có hiệu năng kém hơn C\n",
    "\n",
    "=> [\"B-Sub\", \"O\", \"B-Asp\", \"I-Asp\", \"B-Pre\", \"I-Pre\", \"B-Sub\"]\n",
    "\n",
    "=> Như dữ liệu train, lười viết.\n",
    "\n",
    "\n",
    "\n",
    "- Tiền xử lý dữ liệu (dạng CRF hiểu được)\n",
    "- Huấn luyện model\n",
    "\n",
    "**Vấn đề:**\n",
    "\n",
    "Subject trùng với Object --> Hết cứu\n"
   ]
  },
  {
   "cell_type": "markdown",
   "metadata": {},
   "source": [
    "### <a id='toc2_2_1_'></a>[Tiền xử lý](#toc0_)"
   ]
  },
  {
   "cell_type": "code",
   "execution_count": 10,
   "metadata": {},
   "outputs": [],
   "source": [
    "from processing import RecordEncoder\n",
    "from utils import dupplicate_record_by_quintuple\n",
    "\n",
    "cleaned_trainset = []\n",
    "for record in trainset:\n",
    "    if not record.quintuples:\n",
    "        continue\n",
    "\n",
    "    cleaned_trainset.extend(dupplicate_record_by_quintuple(record))\n",
    "\n",
    "encoder = RecordEncoder()\n",
    "\n",
    "x = [encoder.record2features(record) for record in cleaned_trainset]\n",
    "y = [encoder.record2tags(record) for record in cleaned_trainset]\n"
   ]
  },
  {
   "cell_type": "markdown",
   "metadata": {},
   "source": [
    "### <a id='toc2_2_2_'></a>[Huấn luyện model](#toc0_)"
   ]
  },
  {
   "cell_type": "code",
   "execution_count": 11,
   "metadata": {},
   "outputs": [
    {
     "ename": "AttributeError",
     "evalue": "'CRF' object has no attribute 'keep_tempfiles'",
     "output_type": "error",
     "traceback": [
      "\u001b[0;31m---------------------------------------------------------------------------\u001b[0m",
      "\u001b[0;31mAttributeError\u001b[0m                            Traceback (most recent call last)",
      "File \u001b[0;32m~/Documents/code/academic/data-mining/datamine/.venv/lib/python3.10/site-packages/IPython/core/formatters.py:974\u001b[0m, in \u001b[0;36mMimeBundleFormatter.__call__\u001b[0;34m(self, obj, include, exclude)\u001b[0m\n\u001b[1;32m    971\u001b[0m     method \u001b[39m=\u001b[39m get_real_method(obj, \u001b[39mself\u001b[39m\u001b[39m.\u001b[39mprint_method)\n\u001b[1;32m    973\u001b[0m     \u001b[39mif\u001b[39;00m method \u001b[39mis\u001b[39;00m \u001b[39mnot\u001b[39;00m \u001b[39mNone\u001b[39;00m:\n\u001b[0;32m--> 974\u001b[0m         \u001b[39mreturn\u001b[39;00m method(include\u001b[39m=\u001b[39;49minclude, exclude\u001b[39m=\u001b[39;49mexclude)\n\u001b[1;32m    975\u001b[0m     \u001b[39mreturn\u001b[39;00m \u001b[39mNone\u001b[39;00m\n\u001b[1;32m    976\u001b[0m \u001b[39melse\u001b[39;00m:\n",
      "File \u001b[0;32m~/Documents/code/academic/data-mining/datamine/.venv/lib/python3.10/site-packages/sklearn/base.py:601\u001b[0m, in \u001b[0;36mBaseEstimator._repr_mimebundle_\u001b[0;34m(self, **kwargs)\u001b[0m\n\u001b[1;32m    599\u001b[0m \u001b[39mdef\u001b[39;00m \u001b[39m_repr_mimebundle_\u001b[39m(\u001b[39mself\u001b[39m, \u001b[39m*\u001b[39m\u001b[39m*\u001b[39mkwargs):\n\u001b[1;32m    600\u001b[0m \u001b[39m    \u001b[39m\u001b[39m\"\"\"Mime bundle used by jupyter kernels to display estimator\"\"\"\u001b[39;00m\n\u001b[0;32m--> 601\u001b[0m     output \u001b[39m=\u001b[39m {\u001b[39m\"\u001b[39m\u001b[39mtext/plain\u001b[39m\u001b[39m\"\u001b[39m: \u001b[39mrepr\u001b[39;49m(\u001b[39mself\u001b[39;49m)}\n\u001b[1;32m    602\u001b[0m     \u001b[39mif\u001b[39;00m get_config()[\u001b[39m\"\u001b[39m\u001b[39mdisplay\u001b[39m\u001b[39m\"\u001b[39m] \u001b[39m==\u001b[39m \u001b[39m\"\u001b[39m\u001b[39mdiagram\u001b[39m\u001b[39m\"\u001b[39m:\n\u001b[1;32m    603\u001b[0m         output[\u001b[39m\"\u001b[39m\u001b[39mtext/html\u001b[39m\u001b[39m\"\u001b[39m] \u001b[39m=\u001b[39m estimator_html_repr(\u001b[39mself\u001b[39m)\n",
      "File \u001b[0;32m~/Documents/code/academic/data-mining/datamine/.venv/lib/python3.10/site-packages/sklearn/base.py:238\u001b[0m, in \u001b[0;36mBaseEstimator.__repr__\u001b[0;34m(self, N_CHAR_MAX)\u001b[0m\n\u001b[1;32m    230\u001b[0m \u001b[39m# use ellipsis for sequences with a lot of elements\u001b[39;00m\n\u001b[1;32m    231\u001b[0m pp \u001b[39m=\u001b[39m _EstimatorPrettyPrinter(\n\u001b[1;32m    232\u001b[0m     compact\u001b[39m=\u001b[39m\u001b[39mTrue\u001b[39;00m,\n\u001b[1;32m    233\u001b[0m     indent\u001b[39m=\u001b[39m\u001b[39m1\u001b[39m,\n\u001b[1;32m    234\u001b[0m     indent_at_name\u001b[39m=\u001b[39m\u001b[39mTrue\u001b[39;00m,\n\u001b[1;32m    235\u001b[0m     n_max_elements_to_show\u001b[39m=\u001b[39mN_MAX_ELEMENTS_TO_SHOW,\n\u001b[1;32m    236\u001b[0m )\n\u001b[0;32m--> 238\u001b[0m repr_ \u001b[39m=\u001b[39m pp\u001b[39m.\u001b[39;49mpformat(\u001b[39mself\u001b[39;49m)\n\u001b[1;32m    240\u001b[0m \u001b[39m# Use bruteforce ellipsis when there are a lot of non-blank characters\u001b[39;00m\n\u001b[1;32m    241\u001b[0m n_nonblank \u001b[39m=\u001b[39m \u001b[39mlen\u001b[39m(\u001b[39m\"\u001b[39m\u001b[39m\"\u001b[39m\u001b[39m.\u001b[39mjoin(repr_\u001b[39m.\u001b[39msplit()))\n",
      "File \u001b[0;32m~/.pyenv/versions/3.10.12/lib/python3.10/pprint.py:157\u001b[0m, in \u001b[0;36mPrettyPrinter.pformat\u001b[0;34m(self, object)\u001b[0m\n\u001b[1;32m    155\u001b[0m \u001b[39mdef\u001b[39;00m \u001b[39mpformat\u001b[39m(\u001b[39mself\u001b[39m, \u001b[39mobject\u001b[39m):\n\u001b[1;32m    156\u001b[0m     sio \u001b[39m=\u001b[39m _StringIO()\n\u001b[0;32m--> 157\u001b[0m     \u001b[39mself\u001b[39;49m\u001b[39m.\u001b[39;49m_format(\u001b[39mobject\u001b[39;49m, sio, \u001b[39m0\u001b[39;49m, \u001b[39m0\u001b[39;49m, {}, \u001b[39m0\u001b[39;49m)\n\u001b[1;32m    158\u001b[0m     \u001b[39mreturn\u001b[39;00m sio\u001b[39m.\u001b[39mgetvalue()\n",
      "File \u001b[0;32m~/.pyenv/versions/3.10.12/lib/python3.10/pprint.py:174\u001b[0m, in \u001b[0;36mPrettyPrinter._format\u001b[0;34m(self, object, stream, indent, allowance, context, level)\u001b[0m\n\u001b[1;32m    172\u001b[0m     \u001b[39mself\u001b[39m\u001b[39m.\u001b[39m_readable \u001b[39m=\u001b[39m \u001b[39mFalse\u001b[39;00m\n\u001b[1;32m    173\u001b[0m     \u001b[39mreturn\u001b[39;00m\n\u001b[0;32m--> 174\u001b[0m rep \u001b[39m=\u001b[39m \u001b[39mself\u001b[39;49m\u001b[39m.\u001b[39;49m_repr(\u001b[39mobject\u001b[39;49m, context, level)\n\u001b[1;32m    175\u001b[0m max_width \u001b[39m=\u001b[39m \u001b[39mself\u001b[39m\u001b[39m.\u001b[39m_width \u001b[39m-\u001b[39m indent \u001b[39m-\u001b[39m allowance\n\u001b[1;32m    176\u001b[0m \u001b[39mif\u001b[39;00m \u001b[39mlen\u001b[39m(rep) \u001b[39m>\u001b[39m max_width:\n",
      "File \u001b[0;32m~/.pyenv/versions/3.10.12/lib/python3.10/pprint.py:454\u001b[0m, in \u001b[0;36mPrettyPrinter._repr\u001b[0;34m(self, object, context, level)\u001b[0m\n\u001b[1;32m    453\u001b[0m \u001b[39mdef\u001b[39;00m \u001b[39m_repr\u001b[39m(\u001b[39mself\u001b[39m, \u001b[39mobject\u001b[39m, context, level):\n\u001b[0;32m--> 454\u001b[0m     \u001b[39mrepr\u001b[39m, readable, recursive \u001b[39m=\u001b[39m \u001b[39mself\u001b[39;49m\u001b[39m.\u001b[39;49mformat(\u001b[39mobject\u001b[39;49m, context\u001b[39m.\u001b[39;49mcopy(),\n\u001b[1;32m    455\u001b[0m                                             \u001b[39mself\u001b[39;49m\u001b[39m.\u001b[39;49m_depth, level)\n\u001b[1;32m    456\u001b[0m     \u001b[39mif\u001b[39;00m \u001b[39mnot\u001b[39;00m readable:\n\u001b[1;32m    457\u001b[0m         \u001b[39mself\u001b[39m\u001b[39m.\u001b[39m_readable \u001b[39m=\u001b[39m \u001b[39mFalse\u001b[39;00m\n",
      "File \u001b[0;32m~/Documents/code/academic/data-mining/datamine/.venv/lib/python3.10/site-packages/sklearn/utils/_pprint.py:189\u001b[0m, in \u001b[0;36m_EstimatorPrettyPrinter.format\u001b[0;34m(self, object, context, maxlevels, level)\u001b[0m\n\u001b[1;32m    188\u001b[0m \u001b[39mdef\u001b[39;00m \u001b[39mformat\u001b[39m(\u001b[39mself\u001b[39m, \u001b[39mobject\u001b[39m, context, maxlevels, level):\n\u001b[0;32m--> 189\u001b[0m     \u001b[39mreturn\u001b[39;00m _safe_repr(\n\u001b[1;32m    190\u001b[0m         \u001b[39mobject\u001b[39;49m, context, maxlevels, level, changed_only\u001b[39m=\u001b[39;49m\u001b[39mself\u001b[39;49m\u001b[39m.\u001b[39;49m_changed_only\n\u001b[1;32m    191\u001b[0m     )\n",
      "File \u001b[0;32m~/Documents/code/academic/data-mining/datamine/.venv/lib/python3.10/site-packages/sklearn/utils/_pprint.py:440\u001b[0m, in \u001b[0;36m_safe_repr\u001b[0;34m(object, context, maxlevels, level, changed_only)\u001b[0m\n\u001b[1;32m    438\u001b[0m recursive \u001b[39m=\u001b[39m \u001b[39mFalse\u001b[39;00m\n\u001b[1;32m    439\u001b[0m \u001b[39mif\u001b[39;00m changed_only:\n\u001b[0;32m--> 440\u001b[0m     params \u001b[39m=\u001b[39m _changed_params(\u001b[39mobject\u001b[39;49m)\n\u001b[1;32m    441\u001b[0m \u001b[39melse\u001b[39;00m:\n\u001b[1;32m    442\u001b[0m     params \u001b[39m=\u001b[39m \u001b[39mobject\u001b[39m\u001b[39m.\u001b[39mget_params(deep\u001b[39m=\u001b[39m\u001b[39mFalse\u001b[39;00m)\n",
      "File \u001b[0;32m~/Documents/code/academic/data-mining/datamine/.venv/lib/python3.10/site-packages/sklearn/utils/_pprint.py:93\u001b[0m, in \u001b[0;36m_changed_params\u001b[0;34m(estimator)\u001b[0m\n\u001b[1;32m     89\u001b[0m \u001b[39mdef\u001b[39;00m \u001b[39m_changed_params\u001b[39m(estimator):\n\u001b[1;32m     90\u001b[0m \u001b[39m    \u001b[39m\u001b[39m\"\"\"Return dict (param_name: value) of parameters that were given to\u001b[39;00m\n\u001b[1;32m     91\u001b[0m \u001b[39m    estimator with non-default values.\"\"\"\u001b[39;00m\n\u001b[0;32m---> 93\u001b[0m     params \u001b[39m=\u001b[39m estimator\u001b[39m.\u001b[39;49mget_params(deep\u001b[39m=\u001b[39;49m\u001b[39mFalse\u001b[39;49;00m)\n\u001b[1;32m     94\u001b[0m     init_func \u001b[39m=\u001b[39m \u001b[39mgetattr\u001b[39m(estimator\u001b[39m.\u001b[39m\u001b[39m__init__\u001b[39m, \u001b[39m\"\u001b[39m\u001b[39mdeprecated_original\u001b[39m\u001b[39m\"\u001b[39m, estimator\u001b[39m.\u001b[39m\u001b[39m__init__\u001b[39m)\n\u001b[1;32m     95\u001b[0m     init_params \u001b[39m=\u001b[39m inspect\u001b[39m.\u001b[39msignature(init_func)\u001b[39m.\u001b[39mparameters\n",
      "File \u001b[0;32m~/Documents/code/academic/data-mining/datamine/.venv/lib/python3.10/site-packages/sklearn/base.py:170\u001b[0m, in \u001b[0;36mBaseEstimator.get_params\u001b[0;34m(self, deep)\u001b[0m\n\u001b[1;32m    168\u001b[0m out \u001b[39m=\u001b[39m \u001b[39mdict\u001b[39m()\n\u001b[1;32m    169\u001b[0m \u001b[39mfor\u001b[39;00m key \u001b[39min\u001b[39;00m \u001b[39mself\u001b[39m\u001b[39m.\u001b[39m_get_param_names():\n\u001b[0;32m--> 170\u001b[0m     value \u001b[39m=\u001b[39m \u001b[39mgetattr\u001b[39;49m(\u001b[39mself\u001b[39;49m, key)\n\u001b[1;32m    171\u001b[0m     \u001b[39mif\u001b[39;00m deep \u001b[39mand\u001b[39;00m \u001b[39mhasattr\u001b[39m(value, \u001b[39m\"\u001b[39m\u001b[39mget_params\u001b[39m\u001b[39m\"\u001b[39m) \u001b[39mand\u001b[39;00m \u001b[39mnot\u001b[39;00m \u001b[39misinstance\u001b[39m(value, \u001b[39mtype\u001b[39m):\n\u001b[1;32m    172\u001b[0m         deep_items \u001b[39m=\u001b[39m value\u001b[39m.\u001b[39mget_params()\u001b[39m.\u001b[39mitems()\n",
      "\u001b[0;31mAttributeError\u001b[0m: 'CRF' object has no attribute 'keep_tempfiles'"
     ]
    },
    {
     "ename": "AttributeError",
     "evalue": "'CRF' object has no attribute 'keep_tempfiles'",
     "output_type": "error",
     "traceback": [
      "\u001b[0;31m---------------------------------------------------------------------------\u001b[0m",
      "\u001b[0;31mAttributeError\u001b[0m                            Traceback (most recent call last)",
      "File \u001b[0;32m~/Documents/code/academic/data-mining/datamine/.venv/lib/python3.10/site-packages/IPython/core/formatters.py:708\u001b[0m, in \u001b[0;36mPlainTextFormatter.__call__\u001b[0;34m(self, obj)\u001b[0m\n\u001b[1;32m    701\u001b[0m stream \u001b[39m=\u001b[39m StringIO()\n\u001b[1;32m    702\u001b[0m printer \u001b[39m=\u001b[39m pretty\u001b[39m.\u001b[39mRepresentationPrinter(stream, \u001b[39mself\u001b[39m\u001b[39m.\u001b[39mverbose,\n\u001b[1;32m    703\u001b[0m     \u001b[39mself\u001b[39m\u001b[39m.\u001b[39mmax_width, \u001b[39mself\u001b[39m\u001b[39m.\u001b[39mnewline,\n\u001b[1;32m    704\u001b[0m     max_seq_length\u001b[39m=\u001b[39m\u001b[39mself\u001b[39m\u001b[39m.\u001b[39mmax_seq_length,\n\u001b[1;32m    705\u001b[0m     singleton_pprinters\u001b[39m=\u001b[39m\u001b[39mself\u001b[39m\u001b[39m.\u001b[39msingleton_printers,\n\u001b[1;32m    706\u001b[0m     type_pprinters\u001b[39m=\u001b[39m\u001b[39mself\u001b[39m\u001b[39m.\u001b[39mtype_printers,\n\u001b[1;32m    707\u001b[0m     deferred_pprinters\u001b[39m=\u001b[39m\u001b[39mself\u001b[39m\u001b[39m.\u001b[39mdeferred_printers)\n\u001b[0;32m--> 708\u001b[0m printer\u001b[39m.\u001b[39;49mpretty(obj)\n\u001b[1;32m    709\u001b[0m printer\u001b[39m.\u001b[39mflush()\n\u001b[1;32m    710\u001b[0m \u001b[39mreturn\u001b[39;00m stream\u001b[39m.\u001b[39mgetvalue()\n",
      "File \u001b[0;32m~/Documents/code/academic/data-mining/datamine/.venv/lib/python3.10/site-packages/IPython/lib/pretty.py:410\u001b[0m, in \u001b[0;36mRepresentationPrinter.pretty\u001b[0;34m(self, obj)\u001b[0m\n\u001b[1;32m    407\u001b[0m                         \u001b[39mreturn\u001b[39;00m meth(obj, \u001b[39mself\u001b[39m, cycle)\n\u001b[1;32m    408\u001b[0m                 \u001b[39mif\u001b[39;00m \u001b[39mcls\u001b[39m \u001b[39mis\u001b[39;00m \u001b[39mnot\u001b[39;00m \u001b[39mobject\u001b[39m \\\n\u001b[1;32m    409\u001b[0m                         \u001b[39mand\u001b[39;00m \u001b[39mcallable\u001b[39m(\u001b[39mcls\u001b[39m\u001b[39m.\u001b[39m\u001b[39m__dict__\u001b[39m\u001b[39m.\u001b[39mget(\u001b[39m'\u001b[39m\u001b[39m__repr__\u001b[39m\u001b[39m'\u001b[39m)):\n\u001b[0;32m--> 410\u001b[0m                     \u001b[39mreturn\u001b[39;00m _repr_pprint(obj, \u001b[39mself\u001b[39;49m, cycle)\n\u001b[1;32m    412\u001b[0m     \u001b[39mreturn\u001b[39;00m _default_pprint(obj, \u001b[39mself\u001b[39m, cycle)\n\u001b[1;32m    413\u001b[0m \u001b[39mfinally\u001b[39;00m:\n",
      "File \u001b[0;32m~/Documents/code/academic/data-mining/datamine/.venv/lib/python3.10/site-packages/IPython/lib/pretty.py:778\u001b[0m, in \u001b[0;36m_repr_pprint\u001b[0;34m(obj, p, cycle)\u001b[0m\n\u001b[1;32m    776\u001b[0m \u001b[39m\u001b[39m\u001b[39m\"\"\"A pprint that just redirects to the normal repr function.\"\"\"\u001b[39;00m\n\u001b[1;32m    777\u001b[0m \u001b[39m# Find newlines and replace them with p.break_()\u001b[39;00m\n\u001b[0;32m--> 778\u001b[0m output \u001b[39m=\u001b[39m \u001b[39mrepr\u001b[39;49m(obj)\n\u001b[1;32m    779\u001b[0m lines \u001b[39m=\u001b[39m output\u001b[39m.\u001b[39msplitlines()\n\u001b[1;32m    780\u001b[0m \u001b[39mwith\u001b[39;00m p\u001b[39m.\u001b[39mgroup():\n",
      "File \u001b[0;32m~/Documents/code/academic/data-mining/datamine/.venv/lib/python3.10/site-packages/sklearn/base.py:238\u001b[0m, in \u001b[0;36mBaseEstimator.__repr__\u001b[0;34m(self, N_CHAR_MAX)\u001b[0m\n\u001b[1;32m    230\u001b[0m \u001b[39m# use ellipsis for sequences with a lot of elements\u001b[39;00m\n\u001b[1;32m    231\u001b[0m pp \u001b[39m=\u001b[39m _EstimatorPrettyPrinter(\n\u001b[1;32m    232\u001b[0m     compact\u001b[39m=\u001b[39m\u001b[39mTrue\u001b[39;00m,\n\u001b[1;32m    233\u001b[0m     indent\u001b[39m=\u001b[39m\u001b[39m1\u001b[39m,\n\u001b[1;32m    234\u001b[0m     indent_at_name\u001b[39m=\u001b[39m\u001b[39mTrue\u001b[39;00m,\n\u001b[1;32m    235\u001b[0m     n_max_elements_to_show\u001b[39m=\u001b[39mN_MAX_ELEMENTS_TO_SHOW,\n\u001b[1;32m    236\u001b[0m )\n\u001b[0;32m--> 238\u001b[0m repr_ \u001b[39m=\u001b[39m pp\u001b[39m.\u001b[39;49mpformat(\u001b[39mself\u001b[39;49m)\n\u001b[1;32m    240\u001b[0m \u001b[39m# Use bruteforce ellipsis when there are a lot of non-blank characters\u001b[39;00m\n\u001b[1;32m    241\u001b[0m n_nonblank \u001b[39m=\u001b[39m \u001b[39mlen\u001b[39m(\u001b[39m\"\u001b[39m\u001b[39m\"\u001b[39m\u001b[39m.\u001b[39mjoin(repr_\u001b[39m.\u001b[39msplit()))\n",
      "File \u001b[0;32m~/.pyenv/versions/3.10.12/lib/python3.10/pprint.py:157\u001b[0m, in \u001b[0;36mPrettyPrinter.pformat\u001b[0;34m(self, object)\u001b[0m\n\u001b[1;32m    155\u001b[0m \u001b[39mdef\u001b[39;00m \u001b[39mpformat\u001b[39m(\u001b[39mself\u001b[39m, \u001b[39mobject\u001b[39m):\n\u001b[1;32m    156\u001b[0m     sio \u001b[39m=\u001b[39m _StringIO()\n\u001b[0;32m--> 157\u001b[0m     \u001b[39mself\u001b[39;49m\u001b[39m.\u001b[39;49m_format(\u001b[39mobject\u001b[39;49m, sio, \u001b[39m0\u001b[39;49m, \u001b[39m0\u001b[39;49m, {}, \u001b[39m0\u001b[39;49m)\n\u001b[1;32m    158\u001b[0m     \u001b[39mreturn\u001b[39;00m sio\u001b[39m.\u001b[39mgetvalue()\n",
      "File \u001b[0;32m~/.pyenv/versions/3.10.12/lib/python3.10/pprint.py:174\u001b[0m, in \u001b[0;36mPrettyPrinter._format\u001b[0;34m(self, object, stream, indent, allowance, context, level)\u001b[0m\n\u001b[1;32m    172\u001b[0m     \u001b[39mself\u001b[39m\u001b[39m.\u001b[39m_readable \u001b[39m=\u001b[39m \u001b[39mFalse\u001b[39;00m\n\u001b[1;32m    173\u001b[0m     \u001b[39mreturn\u001b[39;00m\n\u001b[0;32m--> 174\u001b[0m rep \u001b[39m=\u001b[39m \u001b[39mself\u001b[39;49m\u001b[39m.\u001b[39;49m_repr(\u001b[39mobject\u001b[39;49m, context, level)\n\u001b[1;32m    175\u001b[0m max_width \u001b[39m=\u001b[39m \u001b[39mself\u001b[39m\u001b[39m.\u001b[39m_width \u001b[39m-\u001b[39m indent \u001b[39m-\u001b[39m allowance\n\u001b[1;32m    176\u001b[0m \u001b[39mif\u001b[39;00m \u001b[39mlen\u001b[39m(rep) \u001b[39m>\u001b[39m max_width:\n",
      "File \u001b[0;32m~/.pyenv/versions/3.10.12/lib/python3.10/pprint.py:454\u001b[0m, in \u001b[0;36mPrettyPrinter._repr\u001b[0;34m(self, object, context, level)\u001b[0m\n\u001b[1;32m    453\u001b[0m \u001b[39mdef\u001b[39;00m \u001b[39m_repr\u001b[39m(\u001b[39mself\u001b[39m, \u001b[39mobject\u001b[39m, context, level):\n\u001b[0;32m--> 454\u001b[0m     \u001b[39mrepr\u001b[39m, readable, recursive \u001b[39m=\u001b[39m \u001b[39mself\u001b[39;49m\u001b[39m.\u001b[39;49mformat(\u001b[39mobject\u001b[39;49m, context\u001b[39m.\u001b[39;49mcopy(),\n\u001b[1;32m    455\u001b[0m                                             \u001b[39mself\u001b[39;49m\u001b[39m.\u001b[39;49m_depth, level)\n\u001b[1;32m    456\u001b[0m     \u001b[39mif\u001b[39;00m \u001b[39mnot\u001b[39;00m readable:\n\u001b[1;32m    457\u001b[0m         \u001b[39mself\u001b[39m\u001b[39m.\u001b[39m_readable \u001b[39m=\u001b[39m \u001b[39mFalse\u001b[39;00m\n",
      "File \u001b[0;32m~/Documents/code/academic/data-mining/datamine/.venv/lib/python3.10/site-packages/sklearn/utils/_pprint.py:189\u001b[0m, in \u001b[0;36m_EstimatorPrettyPrinter.format\u001b[0;34m(self, object, context, maxlevels, level)\u001b[0m\n\u001b[1;32m    188\u001b[0m \u001b[39mdef\u001b[39;00m \u001b[39mformat\u001b[39m(\u001b[39mself\u001b[39m, \u001b[39mobject\u001b[39m, context, maxlevels, level):\n\u001b[0;32m--> 189\u001b[0m     \u001b[39mreturn\u001b[39;00m _safe_repr(\n\u001b[1;32m    190\u001b[0m         \u001b[39mobject\u001b[39;49m, context, maxlevels, level, changed_only\u001b[39m=\u001b[39;49m\u001b[39mself\u001b[39;49m\u001b[39m.\u001b[39;49m_changed_only\n\u001b[1;32m    191\u001b[0m     )\n",
      "File \u001b[0;32m~/Documents/code/academic/data-mining/datamine/.venv/lib/python3.10/site-packages/sklearn/utils/_pprint.py:440\u001b[0m, in \u001b[0;36m_safe_repr\u001b[0;34m(object, context, maxlevels, level, changed_only)\u001b[0m\n\u001b[1;32m    438\u001b[0m recursive \u001b[39m=\u001b[39m \u001b[39mFalse\u001b[39;00m\n\u001b[1;32m    439\u001b[0m \u001b[39mif\u001b[39;00m changed_only:\n\u001b[0;32m--> 440\u001b[0m     params \u001b[39m=\u001b[39m _changed_params(\u001b[39mobject\u001b[39;49m)\n\u001b[1;32m    441\u001b[0m \u001b[39melse\u001b[39;00m:\n\u001b[1;32m    442\u001b[0m     params \u001b[39m=\u001b[39m \u001b[39mobject\u001b[39m\u001b[39m.\u001b[39mget_params(deep\u001b[39m=\u001b[39m\u001b[39mFalse\u001b[39;00m)\n",
      "File \u001b[0;32m~/Documents/code/academic/data-mining/datamine/.venv/lib/python3.10/site-packages/sklearn/utils/_pprint.py:93\u001b[0m, in \u001b[0;36m_changed_params\u001b[0;34m(estimator)\u001b[0m\n\u001b[1;32m     89\u001b[0m \u001b[39mdef\u001b[39;00m \u001b[39m_changed_params\u001b[39m(estimator):\n\u001b[1;32m     90\u001b[0m \u001b[39m    \u001b[39m\u001b[39m\"\"\"Return dict (param_name: value) of parameters that were given to\u001b[39;00m\n\u001b[1;32m     91\u001b[0m \u001b[39m    estimator with non-default values.\"\"\"\u001b[39;00m\n\u001b[0;32m---> 93\u001b[0m     params \u001b[39m=\u001b[39m estimator\u001b[39m.\u001b[39;49mget_params(deep\u001b[39m=\u001b[39;49m\u001b[39mFalse\u001b[39;49;00m)\n\u001b[1;32m     94\u001b[0m     init_func \u001b[39m=\u001b[39m \u001b[39mgetattr\u001b[39m(estimator\u001b[39m.\u001b[39m\u001b[39m__init__\u001b[39m, \u001b[39m\"\u001b[39m\u001b[39mdeprecated_original\u001b[39m\u001b[39m\"\u001b[39m, estimator\u001b[39m.\u001b[39m\u001b[39m__init__\u001b[39m)\n\u001b[1;32m     95\u001b[0m     init_params \u001b[39m=\u001b[39m inspect\u001b[39m.\u001b[39msignature(init_func)\u001b[39m.\u001b[39mparameters\n",
      "File \u001b[0;32m~/Documents/code/academic/data-mining/datamine/.venv/lib/python3.10/site-packages/sklearn/base.py:170\u001b[0m, in \u001b[0;36mBaseEstimator.get_params\u001b[0;34m(self, deep)\u001b[0m\n\u001b[1;32m    168\u001b[0m out \u001b[39m=\u001b[39m \u001b[39mdict\u001b[39m()\n\u001b[1;32m    169\u001b[0m \u001b[39mfor\u001b[39;00m key \u001b[39min\u001b[39;00m \u001b[39mself\u001b[39m\u001b[39m.\u001b[39m_get_param_names():\n\u001b[0;32m--> 170\u001b[0m     value \u001b[39m=\u001b[39m \u001b[39mgetattr\u001b[39;49m(\u001b[39mself\u001b[39;49m, key)\n\u001b[1;32m    171\u001b[0m     \u001b[39mif\u001b[39;00m deep \u001b[39mand\u001b[39;00m \u001b[39mhasattr\u001b[39m(value, \u001b[39m\"\u001b[39m\u001b[39mget_params\u001b[39m\u001b[39m\"\u001b[39m) \u001b[39mand\u001b[39;00m \u001b[39mnot\u001b[39;00m \u001b[39misinstance\u001b[39m(value, \u001b[39mtype\u001b[39m):\n\u001b[1;32m    172\u001b[0m         deep_items \u001b[39m=\u001b[39m value\u001b[39m.\u001b[39mget_params()\u001b[39m.\u001b[39mitems()\n",
      "\u001b[0;31mAttributeError\u001b[0m: 'CRF' object has no attribute 'keep_tempfiles'"
     ]
    },
    {
     "ename": "AttributeError",
     "evalue": "'CRF' object has no attribute 'keep_tempfiles'",
     "output_type": "error",
     "traceback": [
      "\u001b[0;31m---------------------------------------------------------------------------\u001b[0m",
      "\u001b[0;31mAttributeError\u001b[0m                            Traceback (most recent call last)",
      "File \u001b[0;32m~/Documents/code/academic/data-mining/datamine/.venv/lib/python3.10/site-packages/IPython/core/formatters.py:344\u001b[0m, in \u001b[0;36mBaseFormatter.__call__\u001b[0;34m(self, obj)\u001b[0m\n\u001b[1;32m    342\u001b[0m     method \u001b[39m=\u001b[39m get_real_method(obj, \u001b[39mself\u001b[39m\u001b[39m.\u001b[39mprint_method)\n\u001b[1;32m    343\u001b[0m     \u001b[39mif\u001b[39;00m method \u001b[39mis\u001b[39;00m \u001b[39mnot\u001b[39;00m \u001b[39mNone\u001b[39;00m:\n\u001b[0;32m--> 344\u001b[0m         \u001b[39mreturn\u001b[39;00m method()\n\u001b[1;32m    345\u001b[0m     \u001b[39mreturn\u001b[39;00m \u001b[39mNone\u001b[39;00m\n\u001b[1;32m    346\u001b[0m \u001b[39melse\u001b[39;00m:\n",
      "File \u001b[0;32m~/Documents/code/academic/data-mining/datamine/.venv/lib/python3.10/site-packages/sklearn/base.py:597\u001b[0m, in \u001b[0;36mBaseEstimator._repr_html_inner\u001b[0;34m(self)\u001b[0m\n\u001b[1;32m    592\u001b[0m \u001b[39mdef\u001b[39;00m \u001b[39m_repr_html_inner\u001b[39m(\u001b[39mself\u001b[39m):\n\u001b[1;32m    593\u001b[0m \u001b[39m    \u001b[39m\u001b[39m\"\"\"This function is returned by the @property `_repr_html_` to make\u001b[39;00m\n\u001b[1;32m    594\u001b[0m \u001b[39m    `hasattr(estimator, \"_repr_html_\") return `True` or `False` depending\u001b[39;00m\n\u001b[1;32m    595\u001b[0m \u001b[39m    on `get_config()[\"display\"]`.\u001b[39;00m\n\u001b[1;32m    596\u001b[0m \u001b[39m    \"\"\"\u001b[39;00m\n\u001b[0;32m--> 597\u001b[0m     \u001b[39mreturn\u001b[39;00m estimator_html_repr(\u001b[39mself\u001b[39;49m)\n",
      "File \u001b[0;32m~/Documents/code/academic/data-mining/datamine/.venv/lib/python3.10/site-packages/sklearn/utils/_estimator_html_repr.py:393\u001b[0m, in \u001b[0;36mestimator_html_repr\u001b[0;34m(estimator)\u001b[0m\n\u001b[1;32m    391\u001b[0m style_template \u001b[39m=\u001b[39m Template(_STYLE)\n\u001b[1;32m    392\u001b[0m style_with_id \u001b[39m=\u001b[39m style_template\u001b[39m.\u001b[39msubstitute(\u001b[39mid\u001b[39m\u001b[39m=\u001b[39mcontainer_id)\n\u001b[0;32m--> 393\u001b[0m estimator_str \u001b[39m=\u001b[39m \u001b[39mstr\u001b[39;49m(estimator)\n\u001b[1;32m    395\u001b[0m \u001b[39m# The fallback message is shown by default and loading the CSS sets\u001b[39;00m\n\u001b[1;32m    396\u001b[0m \u001b[39m# div.sk-text-repr-fallback to display: none to hide the fallback message.\u001b[39;00m\n\u001b[1;32m    397\u001b[0m \u001b[39m#\u001b[39;00m\n\u001b[0;32m   (...)\u001b[0m\n\u001b[1;32m    402\u001b[0m \u001b[39m# The reverse logic applies to HTML repr div.sk-container.\u001b[39;00m\n\u001b[1;32m    403\u001b[0m \u001b[39m# div.sk-container is hidden by default and the loading the CSS displays it.\u001b[39;00m\n\u001b[1;32m    404\u001b[0m fallback_msg \u001b[39m=\u001b[39m (\n\u001b[1;32m    405\u001b[0m     \u001b[39m\"\u001b[39m\u001b[39mIn a Jupyter environment, please rerun this cell to show the HTML\u001b[39m\u001b[39m\"\u001b[39m\n\u001b[1;32m    406\u001b[0m     \u001b[39m\"\u001b[39m\u001b[39m representation or trust the notebook. <br />On GitHub, the\u001b[39m\u001b[39m\"\u001b[39m\n\u001b[1;32m    407\u001b[0m     \u001b[39m\"\u001b[39m\u001b[39m HTML representation is unable to render, please try loading this page\u001b[39m\u001b[39m\"\u001b[39m\n\u001b[1;32m    408\u001b[0m     \u001b[39m\"\u001b[39m\u001b[39m with nbviewer.org.\u001b[39m\u001b[39m\"\u001b[39m\n\u001b[1;32m    409\u001b[0m )\n",
      "File \u001b[0;32m~/Documents/code/academic/data-mining/datamine/.venv/lib/python3.10/site-packages/sklearn/base.py:238\u001b[0m, in \u001b[0;36mBaseEstimator.__repr__\u001b[0;34m(self, N_CHAR_MAX)\u001b[0m\n\u001b[1;32m    230\u001b[0m \u001b[39m# use ellipsis for sequences with a lot of elements\u001b[39;00m\n\u001b[1;32m    231\u001b[0m pp \u001b[39m=\u001b[39m _EstimatorPrettyPrinter(\n\u001b[1;32m    232\u001b[0m     compact\u001b[39m=\u001b[39m\u001b[39mTrue\u001b[39;00m,\n\u001b[1;32m    233\u001b[0m     indent\u001b[39m=\u001b[39m\u001b[39m1\u001b[39m,\n\u001b[1;32m    234\u001b[0m     indent_at_name\u001b[39m=\u001b[39m\u001b[39mTrue\u001b[39;00m,\n\u001b[1;32m    235\u001b[0m     n_max_elements_to_show\u001b[39m=\u001b[39mN_MAX_ELEMENTS_TO_SHOW,\n\u001b[1;32m    236\u001b[0m )\n\u001b[0;32m--> 238\u001b[0m repr_ \u001b[39m=\u001b[39m pp\u001b[39m.\u001b[39;49mpformat(\u001b[39mself\u001b[39;49m)\n\u001b[1;32m    240\u001b[0m \u001b[39m# Use bruteforce ellipsis when there are a lot of non-blank characters\u001b[39;00m\n\u001b[1;32m    241\u001b[0m n_nonblank \u001b[39m=\u001b[39m \u001b[39mlen\u001b[39m(\u001b[39m\"\u001b[39m\u001b[39m\"\u001b[39m\u001b[39m.\u001b[39mjoin(repr_\u001b[39m.\u001b[39msplit()))\n",
      "File \u001b[0;32m~/.pyenv/versions/3.10.12/lib/python3.10/pprint.py:157\u001b[0m, in \u001b[0;36mPrettyPrinter.pformat\u001b[0;34m(self, object)\u001b[0m\n\u001b[1;32m    155\u001b[0m \u001b[39mdef\u001b[39;00m \u001b[39mpformat\u001b[39m(\u001b[39mself\u001b[39m, \u001b[39mobject\u001b[39m):\n\u001b[1;32m    156\u001b[0m     sio \u001b[39m=\u001b[39m _StringIO()\n\u001b[0;32m--> 157\u001b[0m     \u001b[39mself\u001b[39;49m\u001b[39m.\u001b[39;49m_format(\u001b[39mobject\u001b[39;49m, sio, \u001b[39m0\u001b[39;49m, \u001b[39m0\u001b[39;49m, {}, \u001b[39m0\u001b[39;49m)\n\u001b[1;32m    158\u001b[0m     \u001b[39mreturn\u001b[39;00m sio\u001b[39m.\u001b[39mgetvalue()\n",
      "File \u001b[0;32m~/.pyenv/versions/3.10.12/lib/python3.10/pprint.py:174\u001b[0m, in \u001b[0;36mPrettyPrinter._format\u001b[0;34m(self, object, stream, indent, allowance, context, level)\u001b[0m\n\u001b[1;32m    172\u001b[0m     \u001b[39mself\u001b[39m\u001b[39m.\u001b[39m_readable \u001b[39m=\u001b[39m \u001b[39mFalse\u001b[39;00m\n\u001b[1;32m    173\u001b[0m     \u001b[39mreturn\u001b[39;00m\n\u001b[0;32m--> 174\u001b[0m rep \u001b[39m=\u001b[39m \u001b[39mself\u001b[39;49m\u001b[39m.\u001b[39;49m_repr(\u001b[39mobject\u001b[39;49m, context, level)\n\u001b[1;32m    175\u001b[0m max_width \u001b[39m=\u001b[39m \u001b[39mself\u001b[39m\u001b[39m.\u001b[39m_width \u001b[39m-\u001b[39m indent \u001b[39m-\u001b[39m allowance\n\u001b[1;32m    176\u001b[0m \u001b[39mif\u001b[39;00m \u001b[39mlen\u001b[39m(rep) \u001b[39m>\u001b[39m max_width:\n",
      "File \u001b[0;32m~/.pyenv/versions/3.10.12/lib/python3.10/pprint.py:454\u001b[0m, in \u001b[0;36mPrettyPrinter._repr\u001b[0;34m(self, object, context, level)\u001b[0m\n\u001b[1;32m    453\u001b[0m \u001b[39mdef\u001b[39;00m \u001b[39m_repr\u001b[39m(\u001b[39mself\u001b[39m, \u001b[39mobject\u001b[39m, context, level):\n\u001b[0;32m--> 454\u001b[0m     \u001b[39mrepr\u001b[39m, readable, recursive \u001b[39m=\u001b[39m \u001b[39mself\u001b[39;49m\u001b[39m.\u001b[39;49mformat(\u001b[39mobject\u001b[39;49m, context\u001b[39m.\u001b[39;49mcopy(),\n\u001b[1;32m    455\u001b[0m                                             \u001b[39mself\u001b[39;49m\u001b[39m.\u001b[39;49m_depth, level)\n\u001b[1;32m    456\u001b[0m     \u001b[39mif\u001b[39;00m \u001b[39mnot\u001b[39;00m readable:\n\u001b[1;32m    457\u001b[0m         \u001b[39mself\u001b[39m\u001b[39m.\u001b[39m_readable \u001b[39m=\u001b[39m \u001b[39mFalse\u001b[39;00m\n",
      "File \u001b[0;32m~/Documents/code/academic/data-mining/datamine/.venv/lib/python3.10/site-packages/sklearn/utils/_pprint.py:189\u001b[0m, in \u001b[0;36m_EstimatorPrettyPrinter.format\u001b[0;34m(self, object, context, maxlevels, level)\u001b[0m\n\u001b[1;32m    188\u001b[0m \u001b[39mdef\u001b[39;00m \u001b[39mformat\u001b[39m(\u001b[39mself\u001b[39m, \u001b[39mobject\u001b[39m, context, maxlevels, level):\n\u001b[0;32m--> 189\u001b[0m     \u001b[39mreturn\u001b[39;00m _safe_repr(\n\u001b[1;32m    190\u001b[0m         \u001b[39mobject\u001b[39;49m, context, maxlevels, level, changed_only\u001b[39m=\u001b[39;49m\u001b[39mself\u001b[39;49m\u001b[39m.\u001b[39;49m_changed_only\n\u001b[1;32m    191\u001b[0m     )\n",
      "File \u001b[0;32m~/Documents/code/academic/data-mining/datamine/.venv/lib/python3.10/site-packages/sklearn/utils/_pprint.py:440\u001b[0m, in \u001b[0;36m_safe_repr\u001b[0;34m(object, context, maxlevels, level, changed_only)\u001b[0m\n\u001b[1;32m    438\u001b[0m recursive \u001b[39m=\u001b[39m \u001b[39mFalse\u001b[39;00m\n\u001b[1;32m    439\u001b[0m \u001b[39mif\u001b[39;00m changed_only:\n\u001b[0;32m--> 440\u001b[0m     params \u001b[39m=\u001b[39m _changed_params(\u001b[39mobject\u001b[39;49m)\n\u001b[1;32m    441\u001b[0m \u001b[39melse\u001b[39;00m:\n\u001b[1;32m    442\u001b[0m     params \u001b[39m=\u001b[39m \u001b[39mobject\u001b[39m\u001b[39m.\u001b[39mget_params(deep\u001b[39m=\u001b[39m\u001b[39mFalse\u001b[39;00m)\n",
      "File \u001b[0;32m~/Documents/code/academic/data-mining/datamine/.venv/lib/python3.10/site-packages/sklearn/utils/_pprint.py:93\u001b[0m, in \u001b[0;36m_changed_params\u001b[0;34m(estimator)\u001b[0m\n\u001b[1;32m     89\u001b[0m \u001b[39mdef\u001b[39;00m \u001b[39m_changed_params\u001b[39m(estimator):\n\u001b[1;32m     90\u001b[0m \u001b[39m    \u001b[39m\u001b[39m\"\"\"Return dict (param_name: value) of parameters that were given to\u001b[39;00m\n\u001b[1;32m     91\u001b[0m \u001b[39m    estimator with non-default values.\"\"\"\u001b[39;00m\n\u001b[0;32m---> 93\u001b[0m     params \u001b[39m=\u001b[39m estimator\u001b[39m.\u001b[39;49mget_params(deep\u001b[39m=\u001b[39;49m\u001b[39mFalse\u001b[39;49;00m)\n\u001b[1;32m     94\u001b[0m     init_func \u001b[39m=\u001b[39m \u001b[39mgetattr\u001b[39m(estimator\u001b[39m.\u001b[39m\u001b[39m__init__\u001b[39m, \u001b[39m\"\u001b[39m\u001b[39mdeprecated_original\u001b[39m\u001b[39m\"\u001b[39m, estimator\u001b[39m.\u001b[39m\u001b[39m__init__\u001b[39m)\n\u001b[1;32m     95\u001b[0m     init_params \u001b[39m=\u001b[39m inspect\u001b[39m.\u001b[39msignature(init_func)\u001b[39m.\u001b[39mparameters\n",
      "File \u001b[0;32m~/Documents/code/academic/data-mining/datamine/.venv/lib/python3.10/site-packages/sklearn/base.py:170\u001b[0m, in \u001b[0;36mBaseEstimator.get_params\u001b[0;34m(self, deep)\u001b[0m\n\u001b[1;32m    168\u001b[0m out \u001b[39m=\u001b[39m \u001b[39mdict\u001b[39m()\n\u001b[1;32m    169\u001b[0m \u001b[39mfor\u001b[39;00m key \u001b[39min\u001b[39;00m \u001b[39mself\u001b[39m\u001b[39m.\u001b[39m_get_param_names():\n\u001b[0;32m--> 170\u001b[0m     value \u001b[39m=\u001b[39m \u001b[39mgetattr\u001b[39;49m(\u001b[39mself\u001b[39;49m, key)\n\u001b[1;32m    171\u001b[0m     \u001b[39mif\u001b[39;00m deep \u001b[39mand\u001b[39;00m \u001b[39mhasattr\u001b[39m(value, \u001b[39m\"\u001b[39m\u001b[39mget_params\u001b[39m\u001b[39m\"\u001b[39m) \u001b[39mand\u001b[39;00m \u001b[39mnot\u001b[39;00m \u001b[39misinstance\u001b[39m(value, \u001b[39mtype\u001b[39m):\n\u001b[1;32m    172\u001b[0m         deep_items \u001b[39m=\u001b[39m value\u001b[39m.\u001b[39mget_params()\u001b[39m.\u001b[39mitems()\n",
      "\u001b[0;31mAttributeError\u001b[0m: 'CRF' object has no attribute 'keep_tempfiles'"
     ]
    }
   ],
   "source": [
    "from sklearn_crfsuite import CRF\n",
    "\n",
    "crf = CRF(\n",
    "    algorithm=\"lbfgs\",\n",
    "    c1=0.01,\n",
    "    c2=0.1,\n",
    "    max_iterations=100,\n",
    "    all_possible_transitions=True,\n",
    ")\n",
    "\n",
    "crf.fit(x, y)"
   ]
  },
  {
   "cell_type": "markdown",
   "metadata": {},
   "source": [
    "# <a id='toc3_'></a>[Pha suy luận (dự đoán)](#toc0_)"
   ]
  },
  {
   "cell_type": "markdown",
   "metadata": {},
   "source": [
    "## <a id='toc3_1_'></a>[Task 1: Liệu câu có so sánh hay không?](#toc0_)"
   ]
  },
  {
   "cell_type": "markdown",
   "metadata": {},
   "source": [
    "### <a id='toc3_1_1_'></a>[Dự đoán nhãn](#toc0_)"
   ]
  },
  {
   "cell_type": "code",
   "execution_count": 13,
   "metadata": {},
   "outputs": [
    {
     "name": "stdout",
     "output_type": "stream",
     "text": [
      "(1733, 2464)\n"
     ]
    },
    {
     "data": {
      "text/plain": [
       "(4171, 9)"
      ]
     },
     "execution_count": 13,
     "metadata": {},
     "output_type": "execute_result"
    }
   ],
   "source": [
    "dev_embeded_sentences = tfidf_vec.transform([record.sentence for record in devset])\n",
    "\n",
    "print(dev_embeded_sentences.shape)\n",
    "\n",
    "comparative_preditions = multioutput_classifier.predict(embeded_sentences)\n",
    "comparative_preditions.shape\n"
   ]
  },
  {
   "cell_type": "markdown",
   "metadata": {},
   "source": [
    "### <a id='toc3_1_2_'></a>[Hậu xử lý](#toc0_)"
   ]
  },
  {
   "cell_type": "markdown",
   "metadata": {},
   "source": [
    "Decode vector về dạng string\n",
    "\n",
    "Trong trường hợp model không đưa ra label nào, ta mặc định nó không có câu so sánh (\"No\")"
   ]
  },
  {
   "cell_type": "code",
   "execution_count": 15,
   "metadata": {},
   "outputs": [
    {
     "data": {
      "text/plain": [
       "[['No'], ['COM+'], ['No'], ['No'], ['No']]"
      ]
     },
     "execution_count": 15,
     "metadata": {},
     "output_type": "execute_result"
    }
   ],
   "source": [
    "readable_comparative_preditions = multilabel_model.inverse_transform(comparative_preditions)\n",
    "\n",
    "formatted_comparative_predictions = []\n",
    "\n",
    "for prediction in readable_comparative_preditions:\n",
    "    if prediction:\n",
    "        formatted_comparative_predictions.append(list(prediction))\n",
    "    else:\n",
    "        formatted_comparative_predictions.append([\"No\"])\n",
    "\n",
    "formatted_comparative_predictions[:5]"
   ]
  },
  {
   "cell_type": "markdown",
   "metadata": {},
   "source": [
    "## <a id='toc3_2_'></a>[Task 2: Chi tiết các vật thể được so sánh](#toc0_)"
   ]
  },
  {
   "cell_type": "markdown",
   "metadata": {},
   "source": [
    "### <a id='toc3_2_1_'></a>[Dự đoán](#toc0_)"
   ]
  },
  {
   "cell_type": "code",
   "execution_count": 16,
   "metadata": {},
   "outputs": [],
   "source": [
    "from processing import RecordDecoder\n",
    "\n",
    "dev_featured_sentences = [encoder.record2features(record) for record in devset]\n",
    "decoder = RecordDecoder()\n",
    "postag_preditions = crf.predict(dev_featured_sentences)\n"
   ]
  },
  {
   "cell_type": "markdown",
   "metadata": {},
   "source": [
    "### <a id='toc3_2_2_'></a>[Hậu xử lý](#toc0_)"
   ]
  },
  {
   "cell_type": "code",
   "execution_count": 17,
   "metadata": {},
   "outputs": [
    {
     "data": {
      "text/plain": [
       "['O',\n",
       " ':',\n",
       " 'O',\n",
       " 'O',\n",
       " 'B-Sub',\n",
       " 'I-Sub',\n",
       " 'I-Sub',\n",
       " 'I-Sub',\n",
       " 'O',\n",
       " 'O',\n",
       " 'O',\n",
       " 'O',\n",
       " 'O',\n",
       " 'O',\n",
       " 'O',\n",
       " 'O',\n",
       " 'O',\n",
       " 'O',\n",
       " '.']"
      ]
     },
     "execution_count": 17,
     "metadata": {},
     "output_type": "execute_result"
    }
   ],
   "source": [
    "readable_postag_predictions = [[decoder.parse_tag(_id) for _id in postag_prediction] for postag_prediction in postag_preditions]\n",
    "readable_postag_predictions[0]\n"
   ]
  },
  {
   "cell_type": "markdown",
   "metadata": {},
   "source": [
    "# <a id='toc4_'></a>[Tổng hợp và lưu dữ liệu](#toc0_)"
   ]
  },
  {
   "cell_type": "code",
   "execution_count": 26,
   "metadata": {},
   "outputs": [
    {
     "name": "stdout",
     "output_type": "stream",
     "text": [
      "title: So sánh iPhone 13 Pro Max và Samsung Galaxy Z Fold3 - Nên mua máy nào?\ttitle : So sánh iPhone 13 Pro Max và Samsung Galaxy Z Fold3 - Nên mua máy nào ?\n",
      "\n",
      "iPhone 13 Pro Max và Samsung Galaxy Z Fold3 là hai \"chiến mã\" của hai ông lớn  Apple  và  Samsung  thường được cộng đồng công nghệ đưa ra so sánh.\tiPhone 13 Pro Max và Samsung Galaxy Z Fold3 là hai \" chiến mã \" của hai ông lớn Apple và Samsung thường được cộng đồng công nghệ đưa ra so sánh .\n",
      "{\"label\": \"COM+\", \"subject\": [\"1&&iPhone\", \"2&&13\", \"3&&Pro\", \"4&&Max\", \"6&&Samsung\", \"7&&Galaxy\", \"8&&Z\", \"9&&Fold3\"], \"object\": [], \"aspect\": [], \"predicate\": [\"13&&chi\\u1ebfn\", \"14&&m\\u00e3\"]}\n",
      "\n",
      "Cùng xem bài viết để xem đâu là  điện thoại  được đánh giá cao hơn nhé!\tCùng xem bài viết để xem đâu là điện thoại được đánh giá cao hơn nhé !\n",
      "\n",
      "1.\t1 .\n",
      "\n",
      "Thiết kế\tThiết kế\n",
      "\n",
      "Nhìn thiết kế bên ngoài ta có thể thấy được sự khác biệt rõ rệt giữa hai chiếc điện thoại.\tNhìn thiết kế bên ngoài ta có thể thấy được sự khác biệt rõ rệt giữa hai chiếc điện thoại .\n",
      "\n",
      "Ngựa chiến của  iPhone  nổi bật với ngoại hình cổ điển, cụm camera ấn tượng nhưng vẫn rất sang trọng, thanh lịch.\tNgựa chiến của iPhone nổi bật với ngoại hình cổ điển , cụm camera ấn tượng nhưng vẫn rất sang trọng , thanh lịch .\n",
      "\n",
      "Với  điện thoại Samsung , ngoại hình cực thu hút và độc đáo với màn hình gập mới lạ.\tVới điện thoại Samsung , ngoại hình cực thu hút và độc đáo với màn hình gập mới lạ .\n",
      "\n",
      "alt: Màn hình cực lớn của Samsung Galaxy Z Fold3\talt : Màn hình cực lớn của Samsung Galaxy Z Fold3\n",
      "\n",
      "des: Màn hình cực lớn của Samsung Galaxy Z Fold3\tdes : Màn hình cực lớn của Samsung Galaxy Z Fold3\n",
      "\n"
     ]
    }
   ],
   "source": [
    "labeled_records = [\n",
    "    decoder.label_record(\n",
    "        record, formatted_comparative_predictions[i], readable_postag_predictions[i]\n",
    "    )\n",
    "    for i, record in enumerate(devset)\n",
    "]\n",
    "\n",
    "for record in labeled_records[:10]:\n",
    "    print(decoder.format_record(record), end=\"\\n\\n\")"
   ]
  },
  {
   "cell_type": "code",
   "execution_count": 35,
   "metadata": {},
   "outputs": [],
   "source": [
    "from pathlib import Path\n",
    "\n",
    "EXPORT_DIR = \"../data/export\"\n",
    "DEV_DIR = \"../data/dev/\"\n",
    "\n",
    "sentence2record = {\n",
    "    record.original: record for record in labeled_records\n",
    "}\n",
    "\n",
    "for filepath in Path(DEV_DIR).iterdir():\n",
    "    with open(filepath, \"r\") as fd:\n",
    "        content = fd.read().strip()\n",
    "        raw_records = content.split(\"\\n\\n\")\n",
    "\n",
    "        with open(Path(EXPORT_DIR, filepath.name), \"w\") as export_fd:\n",
    "            for raw_record in raw_records:\n",
    "                sentence, tokenized_sentence = raw_record.split(\"\\t\")\n",
    "                record = sentence2record[sentence]\n",
    "\n",
    "                print(decoder.format_record(record), end=\"\\n\\n\",file=export_fd)\n"
   ]
  }
 ],
 "metadata": {
  "kernelspec": {
   "display_name": ".venv",
   "language": "python",
   "name": "python3"
  },
  "language_info": {
   "codemirror_mode": {
    "name": "ipython",
    "version": 3
   },
   "file_extension": ".py",
   "mimetype": "text/x-python",
   "name": "python",
   "nbconvert_exporter": "python",
   "pygments_lexer": "ipython3",
   "version": "3.10.12"
  }
 },
 "nbformat": 4,
 "nbformat_minor": 2
}
