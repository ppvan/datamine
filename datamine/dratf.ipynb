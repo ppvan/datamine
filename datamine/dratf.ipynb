{
 "cells": [
  {
   "cell_type": "markdown",
   "metadata": {},
   "source": [
    "**Table of contents**<a id='toc0_'></a>    \n",
    "- [Load dữ liệu từ các thư mục train và dev](#toc1_)    \n",
    "- [Pha huấn luyện](#toc2_)    \n",
    "  - [Task1: Nhận diện câu so sánh](#toc2_1_)    \n",
    "    - [Embbeding các câu trong dữ liệu huấn luyện](#toc2_1_1_)    \n",
    "    - [Embbedding các nhãn](#toc2_1_2_)    \n",
    "    - [Huấn luyện model](#toc2_1_3_)    \n",
    "    - [Đánh giá model](#toc2_1_4_)    \n",
    "    - [Chạy thử một vài ví dụ](#toc2_1_5_)    \n",
    "  - [Task 2: Extract đầy đủ cái đặc trưng của phép so sánh.](#toc2_2_)    \n",
    "    - [Tiền xử lý](#toc2_2_1_)    \n",
    "    - [Huấn luyện model](#toc2_2_2_)    \n",
    "- [Pha suy luận (dự đoán)](#toc3_)    \n",
    "  - [Task 1: Liệu câu có so sánh hay không?](#toc3_1_)    \n",
    "    - [Dự đoán nhãn](#toc3_1_1_)    \n",
    "    - [Hậu xử lý](#toc3_1_2_)    \n",
    "  - [Task 2: Chi tiết các vật thể được so sánh](#toc3_2_)    \n",
    "    - [Dự đoán](#toc3_2_1_)    \n",
    "    - [Hậu xử lý](#toc3_2_2_)    \n",
    "- [Tổng hợp và lưu dữ liệu](#toc4_)    \n",
    "\n",
    "<!-- vscode-jupyter-toc-config\n",
    "\tnumbering=false\n",
    "\tanchor=true\n",
    "\tflat=false\n",
    "\tminLevel=1\n",
    "\tmaxLevel=6\n",
    "\t/vscode-jupyter-toc-config -->\n",
    "<!-- THIS CELL WILL BE REPLACED ON TOC UPDATE. DO NOT WRITE YOUR TEXT IN THIS CELL -->"
   ]
  },
  {
   "cell_type": "markdown",
   "metadata": {},
   "source": [
    "# <a id='toc1_'></a>[Load dữ liệu từ các thư mục train và dev](#toc0_)\n",
    "\n",
    "> Dữ liệu được parse và format thành các Record (datatypes.py)"
   ]
  },
  {
   "cell_type": "code",
   "execution_count": 4,
   "metadata": {},
   "outputs": [
    {
     "name": "stdout",
     "output_type": "stream",
     "text": [
      "The autoreload extension is already loaded. To reload it, use:\n",
      "  %reload_ext autoreload\n",
      "Record(original='Title: Review iPhone 14: Thiết kế, hiệu năng, camera và pin', sentence='Title : Review iPhone 14 : Thiết kế , hiệu năng , camera và pin', quintuples=[], comparative=['No'])\n",
      "Record(original='iPhone 14 được ra mắt vào 09/2022, được đánh giá là chỉ nâng cấp nhẹ về phần cứng cũng như phần mềm so với thế hệ trước.', sentence='iPhone 14 được ra mắt vào 09 / 2022 , được đánh giá là chỉ nâng cấp nhẹ về phần cứng cũng như phần mềm so với thế hệ trước .', quintuples=[{'subject': ['1&&iPhone', '2&&14'], 'object': ['28&&thế', '29&&hệ', '30&&trước'], 'aspect': ['20&&phần', '21&&cứng'], 'predicate': ['16&&nâng', '17&&cấp', '18&&nhẹ'], 'label': 'COM+'}, {'subject': ['1&&iPhone', '2&&14'], 'object': ['28&&thế', '29&&hệ', '30&&trước'], 'aspect': ['24&&phần', '25&&mềm'], 'predicate': ['16&&nâng', '17&&cấp', '18&&nhẹ'], 'label': 'COM+'}], comparative=['COM+', 'COM+'])\n",
      "Record(original='Về ngoại hình thì cũng có rất ít sự khác biệt so với thế hệ tiền nhiệm.', sentence='Về ngoại hình thì cũng có rất ít sự khác biệt so với thế hệ tiền nhiệm .', quintuples=[{'subject': [], 'object': ['14&&thế', '15&&hệ', '16&&tiền', '17&&nhiệm'], 'aspect': ['2&&ngoại', '3&&hình'], 'predicate': ['7&&rất', '8&&ít', '9&&sự', '10&&khác', '11&&biệt'], 'label': 'EQL'}], comparative=['EQL'])\n",
      "Record(original='Có một vài ý kiến trái chiều cho rằng, phiên bản iPhone 14 này không có điểm gì nổi bật, thậm chí còn cho rằng không nên bỏ tiền ra nâng cấp hoặc mua.', sentence='Có một vài ý kiến trái chiều cho rằng , phiên bản iPhone 14 này không có điểm gì nổi bật , thậm chí còn cho rằng không nên bỏ tiền ra nâng cấp hoặc mua .', quintuples=[], comparative=['No'])\n",
      "Record(original='Thực tế khi mua hoặc nâng cấp một thiết bị di động bạn thường quan tâm đến những yếu tố nào?', sentence='Thực tế khi mua hoặc nâng cấp một thiết bị di động bạn thường quan tâm đến những yếu tố nào ?', quintuples=[], comparative=['No'])\n",
      "Record(original='Thiết kế, hiệu năng, camera và pin hay đơn giản hơn chỉ là thương hiệu?', sentence='Thiết kế , hiệu năng , camera và pin hay đơn giản hơn chỉ là thương hiệu ?', quintuples=[], comparative=['No'])\n"
     ]
    }
   ],
   "source": [
    "%load_ext autoreload\n",
    "%autoreload 2\n",
    "\n",
    "from dataloader import DataLoader\n",
    "\n",
    "trainset = DataLoader.load_data(\"../data/train\") + DataLoader.load_data(\"../data/dev\")\n",
    "devset = DataLoader.load_data(\"../data/dev\")\n",
    "\n",
    "# print(f\"{trainset[:3]=}\")\n",
    "# print(f\"{devset[:3]=}\")\n",
    "for i in range(6):\n",
    "    print(trainset[i])"
   ]
  },
  {
   "cell_type": "markdown",
   "metadata": {},
   "source": [
    "# <a id='toc2_'></a>[Pha huấn luyện](#toc0_)\n",
    "\n",
    "## <a id='toc2_1_'></a>[Task1: Nhận diện câu so sánh](#toc0_)\n",
    "\n",
    "Phương pháp: Sử dụng model RandomForest để nhận diện đa nhãn (do mỗi câu có thể nhiều câu so sánh)\n",
    "- Embbeding các câu và label\n",
    "- Huấn luyện model sử dụng dữ liệu dạng vector ở bước trên"
   ]
  },
  {
   "cell_type": "markdown",
   "metadata": {},
   "source": [
    "### <a id='toc2_1_1_'></a>[Embbeding các câu trong dữ liệu huấn luyện](#toc0_)"
   ]
  },
  {
   "cell_type": "code",
   "execution_count": 5,
   "metadata": {},
   "outputs": [
    {
     "name": "stdout",
     "output_type": "stream",
     "text": [
      "(4171, 2464)\n"
     ]
    }
   ],
   "source": [
    "from sklearn.feature_extraction.text import TfidfVectorizer\n",
    "\n",
    "tfidf_vec = TfidfVectorizer()\n",
    "\n",
    "sentences = [record.sentence for record in trainset]\n",
    "embeded_sentences = tfidf_vec.fit_transform(sentences)\n",
    "\n",
    "print(embeded_sentences.shape)"
   ]
  },
  {
   "cell_type": "markdown",
   "metadata": {},
   "source": [
    "### <a id='toc2_1_2_'></a>[Embbedding các nhãn](#toc0_)"
   ]
  },
  {
   "cell_type": "code",
   "execution_count": 6,
   "metadata": {},
   "outputs": [],
   "source": [
    "from sklearn.preprocessing import MultiLabelBinarizer\n",
    "\n",
    "labels = [record.comparative for record in trainset]\n",
    "label_classes = [\"No\", \"DIF\", \"EQL\", \"SUP+\", \"SUP-\", \"SUP\", \"COM+\", \"COM-\", \"COM\"]\n",
    "\n",
    "multilabel_model = MultiLabelBinarizer(classes=label_classes)\n",
    "embeded_labels = multilabel_model.fit_transform(labels)"
   ]
  },
  {
   "cell_type": "markdown",
   "metadata": {},
   "source": [
    "### <a id='toc2_1_3_'></a>[Huấn luyện model](#toc0_)"
   ]
  },
  {
   "cell_type": "code",
   "execution_count": 7,
   "metadata": {},
   "outputs": [],
   "source": [
    "from sklearn.ensemble import RandomForestClassifier\n",
    "from sklearn.model_selection import train_test_split\n",
    "from sklearn.metrics import accuracy_score, classification_report\n",
    "from imblearn.over_sampling import RandomOverSampler\n",
    "\n",
    "x_train, x_val, y_train, y_val = train_test_split(embeded_sentences, embeded_labels, test_size=0.2)\n"
   ]
  },
  {
   "cell_type": "code",
   "execution_count": 8,
   "metadata": {},
   "outputs": [
    {
     "name": "stdout",
     "output_type": "stream",
     "text": [
      "x_train.shape=(3336, 2464)\n",
      "x_train.shape=(3336, 2464)\n",
      "[[1 0 0 0 0 0 0 0 0]\n",
      " [0 0 0 0 0 0 1 0 0]\n",
      " [0 0 1 0 0 0 0 0 0]\n",
      " [1 0 0 0 0 0 0 0 0]\n",
      " [1 0 0 0 0 0 0 0 0]\n",
      " [1 0 0 0 0 0 0 0 0]\n",
      " [1 0 0 0 0 0 0 0 0]\n",
      " [1 0 0 0 0 0 0 0 0]\n",
      " [1 0 0 0 0 0 0 0 0]\n",
      " [1 0 0 0 0 0 0 0 0]]\n"
     ]
    }
   ],
   "source": [
    "print(f\"{x_train.shape=}\")\n",
    "print(f\"{x_train.shape=}\")\n",
    "print(embeded_labels[:10])"
   ]
  },
  {
   "cell_type": "code",
   "execution_count": 9,
   "metadata": {},
   "outputs": [
    {
     "data": {
      "text/html": [
       "<style>#sk-container-id-1 {color: black;background-color: white;}#sk-container-id-1 pre{padding: 0;}#sk-container-id-1 div.sk-toggleable {background-color: white;}#sk-container-id-1 label.sk-toggleable__label {cursor: pointer;display: block;width: 100%;margin-bottom: 0;padding: 0.3em;box-sizing: border-box;text-align: center;}#sk-container-id-1 label.sk-toggleable__label-arrow:before {content: \"▸\";float: left;margin-right: 0.25em;color: #696969;}#sk-container-id-1 label.sk-toggleable__label-arrow:hover:before {color: black;}#sk-container-id-1 div.sk-estimator:hover label.sk-toggleable__label-arrow:before {color: black;}#sk-container-id-1 div.sk-toggleable__content {max-height: 0;max-width: 0;overflow: hidden;text-align: left;background-color: #f0f8ff;}#sk-container-id-1 div.sk-toggleable__content pre {margin: 0.2em;color: black;border-radius: 0.25em;background-color: #f0f8ff;}#sk-container-id-1 input.sk-toggleable__control:checked~div.sk-toggleable__content {max-height: 200px;max-width: 100%;overflow: auto;}#sk-container-id-1 input.sk-toggleable__control:checked~label.sk-toggleable__label-arrow:before {content: \"▾\";}#sk-container-id-1 div.sk-estimator input.sk-toggleable__control:checked~label.sk-toggleable__label {background-color: #d4ebff;}#sk-container-id-1 div.sk-label input.sk-toggleable__control:checked~label.sk-toggleable__label {background-color: #d4ebff;}#sk-container-id-1 input.sk-hidden--visually {border: 0;clip: rect(1px 1px 1px 1px);clip: rect(1px, 1px, 1px, 1px);height: 1px;margin: -1px;overflow: hidden;padding: 0;position: absolute;width: 1px;}#sk-container-id-1 div.sk-estimator {font-family: monospace;background-color: #f0f8ff;border: 1px dotted black;border-radius: 0.25em;box-sizing: border-box;margin-bottom: 0.5em;}#sk-container-id-1 div.sk-estimator:hover {background-color: #d4ebff;}#sk-container-id-1 div.sk-parallel-item::after {content: \"\";width: 100%;border-bottom: 1px solid gray;flex-grow: 1;}#sk-container-id-1 div.sk-label:hover label.sk-toggleable__label {background-color: #d4ebff;}#sk-container-id-1 div.sk-serial::before {content: \"\";position: absolute;border-left: 1px solid gray;box-sizing: border-box;top: 0;bottom: 0;left: 50%;z-index: 0;}#sk-container-id-1 div.sk-serial {display: flex;flex-direction: column;align-items: center;background-color: white;padding-right: 0.2em;padding-left: 0.2em;position: relative;}#sk-container-id-1 div.sk-item {position: relative;z-index: 1;}#sk-container-id-1 div.sk-parallel {display: flex;align-items: stretch;justify-content: center;background-color: white;position: relative;}#sk-container-id-1 div.sk-item::before, #sk-container-id-1 div.sk-parallel-item::before {content: \"\";position: absolute;border-left: 1px solid gray;box-sizing: border-box;top: 0;bottom: 0;left: 50%;z-index: -1;}#sk-container-id-1 div.sk-parallel-item {display: flex;flex-direction: column;z-index: 1;position: relative;background-color: white;}#sk-container-id-1 div.sk-parallel-item:first-child::after {align-self: flex-end;width: 50%;}#sk-container-id-1 div.sk-parallel-item:last-child::after {align-self: flex-start;width: 50%;}#sk-container-id-1 div.sk-parallel-item:only-child::after {width: 0;}#sk-container-id-1 div.sk-dashed-wrapped {border: 1px dashed gray;margin: 0 0.4em 0.5em 0.4em;box-sizing: border-box;padding-bottom: 0.4em;background-color: white;}#sk-container-id-1 div.sk-label label {font-family: monospace;font-weight: bold;display: inline-block;line-height: 1.2em;}#sk-container-id-1 div.sk-label-container {text-align: center;}#sk-container-id-1 div.sk-container {/* jupyter's `normalize.less` sets `[hidden] { display: none; }` but bootstrap.min.css set `[hidden] { display: none !important; }` so we also need the `!important` here to be able to override the default hidden behavior on the sphinx rendered scikit-learn.org. See: https://github.com/scikit-learn/scikit-learn/issues/21755 */display: inline-block !important;position: relative;}#sk-container-id-1 div.sk-text-repr-fallback {display: none;}</style><div id=\"sk-container-id-1\" class=\"sk-top-container\"><div class=\"sk-text-repr-fallback\"><pre>MultiOutputClassifier(estimator=RandomForestClassifier(class_weight=&#x27;balanced&#x27;,\n",
       "                                                       max_depth=12,\n",
       "                                                       n_estimators=200,\n",
       "                                                       random_state=0))</pre><b>In a Jupyter environment, please rerun this cell to show the HTML representation or trust the notebook. <br />On GitHub, the HTML representation is unable to render, please try loading this page with nbviewer.org.</b></div><div class=\"sk-container\" hidden><div class=\"sk-item sk-dashed-wrapped\"><div class=\"sk-label-container\"><div class=\"sk-label sk-toggleable\"><input class=\"sk-toggleable__control sk-hidden--visually\" id=\"sk-estimator-id-1\" type=\"checkbox\" ><label for=\"sk-estimator-id-1\" class=\"sk-toggleable__label sk-toggleable__label-arrow\">MultiOutputClassifier</label><div class=\"sk-toggleable__content\"><pre>MultiOutputClassifier(estimator=RandomForestClassifier(class_weight=&#x27;balanced&#x27;,\n",
       "                                                       max_depth=12,\n",
       "                                                       n_estimators=200,\n",
       "                                                       random_state=0))</pre></div></div></div><div class=\"sk-parallel\"><div class=\"sk-parallel-item\"><div class=\"sk-item\"><div class=\"sk-label-container\"><div class=\"sk-label sk-toggleable\"><input class=\"sk-toggleable__control sk-hidden--visually\" id=\"sk-estimator-id-2\" type=\"checkbox\" ><label for=\"sk-estimator-id-2\" class=\"sk-toggleable__label sk-toggleable__label-arrow\">estimator: RandomForestClassifier</label><div class=\"sk-toggleable__content\"><pre>RandomForestClassifier(class_weight=&#x27;balanced&#x27;, max_depth=12, n_estimators=200,\n",
       "                       random_state=0)</pre></div></div></div><div class=\"sk-serial\"><div class=\"sk-item\"><div class=\"sk-estimator sk-toggleable\"><input class=\"sk-toggleable__control sk-hidden--visually\" id=\"sk-estimator-id-3\" type=\"checkbox\" ><label for=\"sk-estimator-id-3\" class=\"sk-toggleable__label sk-toggleable__label-arrow\">RandomForestClassifier</label><div class=\"sk-toggleable__content\"><pre>RandomForestClassifier(class_weight=&#x27;balanced&#x27;, max_depth=12, n_estimators=200,\n",
       "                       random_state=0)</pre></div></div></div></div></div></div></div></div></div></div>"
      ],
      "text/plain": [
       "MultiOutputClassifier(estimator=RandomForestClassifier(class_weight='balanced',\n",
       "                                                       max_depth=12,\n",
       "                                                       n_estimators=200,\n",
       "                                                       random_state=0))"
      ]
     },
     "execution_count": 9,
     "metadata": {},
     "output_type": "execute_result"
    }
   ],
   "source": [
    "from sklearn.multioutput import MultiOutputClassifier\n",
    "\n",
    "randomforest_model = RandomForestClassifier(n_estimators = 200, criterion = 'gini',max_depth = 12, class_weight='balanced', random_state=0)\n",
    "multioutput_classifier = MultiOutputClassifier(randomforest_model)\n",
    "#multioutput_classifier.fit(x_train, y_train)\n",
    "multioutput_classifier.fit(embeded_sentences, embeded_labels)"
   ]
  },
  {
   "cell_type": "markdown",
   "metadata": {},
   "source": [
    "### <a id='toc2_1_4_'></a>[Đánh giá model](#toc0_)"
   ]
  },
  {
   "cell_type": "code",
   "execution_count": 10,
   "metadata": {},
   "outputs": [
    {
     "name": "stdout",
     "output_type": "stream",
     "text": [
      "Accuracy =  0.9473053892215569\n",
      "              precision    recall  f1-score   support\n",
      "\n",
      "           0       0.98      0.97      0.98       683\n",
      "           1       1.00      1.00      1.00        10\n",
      "           2       0.84      0.88      0.86        43\n",
      "           3       1.00      1.00      1.00        19\n",
      "           4       0.00      0.00      0.00         0\n",
      "           5       0.00      0.00      0.00         0\n",
      "           6       0.83      0.95      0.88        73\n",
      "           7       1.00      1.00      1.00        15\n",
      "           8       1.00      1.00      1.00         5\n",
      "\n",
      "   micro avg       0.96      0.97      0.96       848\n",
      "   macro avg       0.74      0.76      0.75       848\n",
      "weighted avg       0.96      0.97      0.97       848\n",
      " samples avg       0.96      0.97      0.96       848\n",
      "\n"
     ]
    },
    {
     "name": "stderr",
     "output_type": "stream",
     "text": [
      "/home/ppvan/Documents/code/academic/data-mining/datamine/.venv/lib/python3.10/site-packages/sklearn/metrics/_classification.py:1344: UndefinedMetricWarning: Precision and F-score are ill-defined and being set to 0.0 in labels with no predicted samples. Use `zero_division` parameter to control this behavior.\n",
      "  _warn_prf(average, modifier, msg_start, len(result))\n",
      "/home/ppvan/Documents/code/academic/data-mining/datamine/.venv/lib/python3.10/site-packages/sklearn/metrics/_classification.py:1344: UndefinedMetricWarning: Recall and F-score are ill-defined and being set to 0.0 in labels with no true samples. Use `zero_division` parameter to control this behavior.\n",
      "  _warn_prf(average, modifier, msg_start, len(result))\n",
      "/home/ppvan/Documents/code/academic/data-mining/datamine/.venv/lib/python3.10/site-packages/sklearn/metrics/_classification.py:1344: UndefinedMetricWarning: Precision and F-score are ill-defined and being set to 0.0 in samples with no predicted labels. Use `zero_division` parameter to control this behavior.\n",
      "  _warn_prf(average, modifier, msg_start, len(result))\n"
     ]
    }
   ],
   "source": [
    "y_preds = multioutput_classifier.predict(x_val)\n",
    "\n",
    "print('Accuracy = ', accuracy_score(y_val, y_preds))\n",
    "report = classification_report(y_val, y_preds)\n",
    "print(report)"
   ]
  },
  {
   "cell_type": "markdown",
   "metadata": {},
   "source": [
    "### <a id='toc2_1_5_'></a>[Chạy thử một vài ví dụ](#toc0_)"
   ]
  },
  {
   "cell_type": "code",
   "execution_count": 11,
   "metadata": {},
   "outputs": [
    {
     "name": "stdout",
     "output_type": "stream",
     "text": [
      "[('No',)]\n",
      "[[1 0 0 0 0 0 0 0 0]]\n"
     ]
    }
   ],
   "source": [
    "sample_sentence = \"des :\"\n",
    "embeded_sentence = tfidf_vec.transform([sample_sentence])\n",
    "prediction = multioutput_classifier.predict(embeded_sentence)\n",
    "print(multilabel_model.inverse_transform(prediction))\n",
    "print(prediction)"
   ]
  },
  {
   "cell_type": "markdown",
   "metadata": {},
   "source": [
    "## <a id='toc2_2_'></a>[Task 2: Extract đầy đủ cái đặc trưng của phép so sánh.](#toc0_)\n",
    "\n",
    "**Phương pháp** : Conditional Random Fields (CRF)\n",
    "\n",
    "Sử dụng kĩ thuật POSTag để dự đoán thành phần trong câu, từ đó suy ra các chủ thể của phép so sánh.\n",
    "\n",
    "=> Xác định được POS-tag của từng từ trong câu.\n",
    "=> Xác định được entity(subject, object), aspect, predicate\n",
    "\n",
    "Ví dụ: Javascript có hiệu năng kém hơn C\n",
    "\n",
    "=> [\"B-Sub\", \"O\", \"B-Asp\", \"I-Asp\", \"B-Pre\", \"I-Pre\", \"B-Sub\"]\n",
    "\n",
    "=> Như dữ liệu train, lười viết.\n",
    "\n",
    "\n",
    "\n",
    "- Tiền xử lý dữ liệu (dạng CRF hiểu được)\n",
    "- Huấn luyện model\n",
    "\n",
    "**Vấn đề:**\n",
    "\n",
    "Subject trùng với Object --> Hết cứu\n"
   ]
  },
  {
   "cell_type": "markdown",
   "metadata": {},
   "source": [
    "### <a id='toc2_2_1_'></a>[Tiền xử lý](#toc0_)"
   ]
  },
  {
   "cell_type": "code",
   "execution_count": 12,
   "metadata": {},
   "outputs": [],
   "source": [
    "from processing import RecordEncoder\n",
    "from utils import dupplicate_record_by_quintuple\n",
    "\n",
    "cleaned_trainset = []\n",
    "for record in trainset:\n",
    "    if not record.quintuples:\n",
    "        continue\n",
    "\n",
    "    cleaned_trainset.extend(dupplicate_record_by_quintuple(record))\n",
    "\n",
    "encoder = RecordEncoder()\n",
    "\n",
    "x = [encoder.record2features(record) for record in cleaned_trainset]\n",
    "y = [encoder.record2tags(record) for record in cleaned_trainset]\n"
   ]
  },
  {
   "cell_type": "markdown",
   "metadata": {},
   "source": [
    "### <a id='toc2_2_2_'></a>[Huấn luyện model](#toc0_)"
   ]
  },
  {
   "cell_type": "code",
   "execution_count": 14,
   "metadata": {},
   "outputs": [],
   "source": [
    "from sklearn_crfsuite import CRF\n",
    "# Error keep_tempfile but keep working\n",
    "crf = CRF(\n",
    "    algorithm=\"lbfgs\",\n",
    "    c1=0.01,\n",
    "    c2=0.1,\n",
    "    max_iterations=100,\n",
    "    all_possible_transitions=True,\n",
    ")\n",
    "\n",
    "try:\n",
    "    crf.fit(x, y)\n",
    "\n",
    "except: pass\n"
   ]
  },
  {
   "cell_type": "markdown",
   "metadata": {},
   "source": [
    "# <a id='toc3_'></a>[Pha suy luận (dự đoán)](#toc0_)"
   ]
  },
  {
   "cell_type": "markdown",
   "metadata": {},
   "source": [
    "## <a id='toc3_1_'></a>[Task 1: Liệu câu có so sánh hay không?](#toc0_)"
   ]
  },
  {
   "cell_type": "markdown",
   "metadata": {},
   "source": [
    "### <a id='toc3_1_1_'></a>[Dự đoán nhãn](#toc0_)"
   ]
  },
  {
   "cell_type": "code",
   "execution_count": null,
   "metadata": {},
   "outputs": [
    {
     "name": "stdout",
     "output_type": "stream",
     "text": [
      "(1733, 2464)\n"
     ]
    },
    {
     "data": {
      "text/plain": [
       "(1733, 9)"
      ]
     },
     "execution_count": 37,
     "metadata": {},
     "output_type": "execute_result"
    }
   ],
   "source": [
    "dev_embeded_sentences = tfidf_vec.transform([record.sentence for record in devset])\n",
    "\n",
    "print(dev_embeded_sentences.shape)\n",
    "\n",
    "comparative_preditions = multioutput_classifier.predict(dev_embeded_sentences)\n",
    "comparative_preditions.shape\n"
   ]
  },
  {
   "cell_type": "markdown",
   "metadata": {},
   "source": [
    "### <a id='toc3_1_2_'></a>[Hậu xử lý](#toc0_)"
   ]
  },
  {
   "cell_type": "markdown",
   "metadata": {},
   "source": [
    "Decode vector về dạng string\n",
    "\n",
    "Trong trường hợp model không đưa ra label nào, ta mặc định nó không có câu so sánh (\"No\")"
   ]
  },
  {
   "cell_type": "code",
   "execution_count": null,
   "metadata": {},
   "outputs": [
    {
     "data": {
      "text/plain": [
       "[['No'], ['No'], ['No'], ['COM+'], ['No']]"
      ]
     },
     "execution_count": 38,
     "metadata": {},
     "output_type": "execute_result"
    }
   ],
   "source": [
    "readable_comparative_preditions = multilabel_model.inverse_transform(comparative_preditions)\n",
    "\n",
    "formatted_comparative_predictions = []\n",
    "\n",
    "for prediction in readable_comparative_preditions:\n",
    "    if prediction:\n",
    "        formatted_comparative_predictions.append(list(prediction))\n",
    "    else:\n",
    "        formatted_comparative_predictions.append([\"No\"])\n",
    "\n",
    "formatted_comparative_predictions[:5]"
   ]
  },
  {
   "cell_type": "markdown",
   "metadata": {},
   "source": [
    "## <a id='toc3_2_'></a>[Task 2: Chi tiết các vật thể được so sánh](#toc0_)"
   ]
  },
  {
   "cell_type": "markdown",
   "metadata": {},
   "source": [
    "### <a id='toc3_2_1_'></a>[Dự đoán](#toc0_)"
   ]
  },
  {
   "cell_type": "code",
   "execution_count": null,
   "metadata": {},
   "outputs": [],
   "source": [
    "from processing import RecordDecoder\n",
    "\n",
    "dev_featured_sentences = [encoder.record2features(record) for record in devset]\n",
    "decoder = RecordDecoder()\n",
    "postag_preditions = crf.predict(dev_featured_sentences)\n"
   ]
  },
  {
   "cell_type": "markdown",
   "metadata": {},
   "source": [
    "### <a id='toc3_2_2_'></a>[Hậu xử lý](#toc0_)"
   ]
  },
  {
   "cell_type": "code",
   "execution_count": null,
   "metadata": {},
   "outputs": [
    {
     "data": {
      "text/plain": [
       "['O',\n",
       " ':',\n",
       " 'O',\n",
       " 'O',\n",
       " 'B-Sub',\n",
       " 'I-Sub',\n",
       " 'I-Sub',\n",
       " 'I-Sub',\n",
       " 'O',\n",
       " 'O',\n",
       " 'O',\n",
       " '-',\n",
       " 'O',\n",
       " 'O',\n",
       " 'O',\n",
       " 'O',\n",
       " 'O',\n",
       " '.']"
      ]
     },
     "execution_count": 40,
     "metadata": {},
     "output_type": "execute_result"
    }
   ],
   "source": [
    "readable_postag_predictions = [[decoder.parse_tag(_id) for _id in postag_prediction] for postag_prediction in postag_preditions]\n",
    "readable_postag_predictions[0]\n"
   ]
  },
  {
   "cell_type": "markdown",
   "metadata": {},
   "source": [
    "# <a id='toc4_'></a>[Tổng hợp và lưu dữ liệu](#toc0_)"
   ]
  },
  {
   "cell_type": "code",
   "execution_count": null,
   "metadata": {},
   "outputs": [
    {
     "name": "stdout",
     "output_type": "stream",
     "text": [
      "title: So sánh Samsung Galaxy A33 5G và Galaxy A32 - Lựa chọn nào phù hợp?\ttitle : So sánh Samsung Galaxy A33 5G và Galaxy A32 - Lựa chọn nào phù hợp ?\n",
      "\n",
      "Nhiều Samfans đang thắc mắc liệu rằng các  điện thoại Samsung  ở phân khúc tầm trung có thực sự tốt như kỳ vọng của họ hay không?\tNhiều Samfans đang thắc mắc liệu rằng các điện thoại Samsung ở phân khúc tầm trung có thực sự tốt như kỳ vọng của họ hay không ?\n",
      "\n",
      "Giữa các phiên bản, liệu rằng chiếc  điện thoại  nào sẽ phù hợp với bạn.\tGiữa các phiên bản , liệu rằng chiếc điện thoại nào sẽ phù hợp với bạn .\n",
      "\n",
      "Bài viết dưới đây so sánh Samsung Galaxy A33 5G và Galaxy A32 là ví dụ điển hình giúp bạn có cái nhìn tổng quan hơn.\tBài viết dưới đây so sánh Samsung Galaxy A33 5G và Galaxy A32 là ví dụ điển hình giúp bạn có cái nhìn tổng quan hơn .\n",
      "{\"subject\": [\"7&&Samsung\", \"8&&Galaxy\", \"9&&A33\", \"10&&5G\"], \"object\": [], \"aspect\": [], \"predicate\": [], \"label\": \"COM+\"}\n",
      "\n",
      "Hãy cùng theo dõi nhé!\tHãy cùng theo dõi nhé !\n",
      "\n",
      "1.\t1 .\n",
      "\n",
      "Tổng quan về điện thoại Samsung Galaxy A33 5G\tTổng quan về điện thoại Samsung Galaxy A33 5G\n",
      "\n",
      "Samsung Galaxy A33 5G  chính thức ra mắt thị trường vào thời điểm tháng 04/2022 dưới sự mong đợi của nhiều Samfans dành cho đại diện dòng Galaxy A.\tSamsung Galaxy A33 5G chính thức ra mắt thị trường vào thời điểm tháng 04 / 2022 dưới sự mong đợi của nhiều Samfans dành cho đại diện dòng Galaxy A .\n",
      "\n",
      "Mặc dù thuộc phân khúc tầm trung nhưng điện thoại sở hữu những thông số vượt trội và được đánh giá cao so với những đối thủ ở cùng tầm giá.\tMặc dù thuộc phân khúc tầm trung nhưng điện thoại sở hữu những thông số vượt trội và được đánh giá cao so với những đối thủ ở cùng tầm giá .\n",
      "\n",
      "Thiết kế điện thoại có phần cứng cáp hơn, các góc cạnh khá vuông vức và phần viền có phần hơi dày.\tThiết kế điện thoại có phần cứng cáp hơn , các góc cạnh khá vuông vức và phần viền có phần hơi dày .\n",
      "\n"
     ]
    }
   ],
   "source": [
    "labeled_records = [\n",
    "    decoder.label_record(\n",
    "        record, formatted_comparative_predictions[i], readable_postag_predictions[i]\n",
    "    )\n",
    "    for i, record in enumerate(devset)\n",
    "]\n",
    "\n",
    "for record in labeled_records[:10]:\n",
    "    print(decoder.format_record(record), end=\"\\n\\n\")"
   ]
  },
  {
   "cell_type": "code",
   "execution_count": null,
   "metadata": {},
   "outputs": [],
   "source": [
    "from pathlib import Path\n",
    "\n",
    "EXPORT_DIR = \"../data/export\"\n",
    "DEV_DIR = \"../data/dev/\"\n",
    "\n",
    "sentence2record = {\n",
    "    record.original: record for record in labeled_records\n",
    "}\n",
    "\n",
    "for filepath in Path(DEV_DIR).iterdir():\n",
    "    with open(filepath, \"r\") as fd:\n",
    "        content = fd.read().strip()\n",
    "        raw_records = content.split(\"\\n\\n\")\n",
    "\n",
    "        with open(Path(EXPORT_DIR, filepath.name), \"w\") as export_fd:\n",
    "            for raw_record in raw_records:\n",
    "                sentence, tokenized_sentence = raw_record.split(\"\\t\")\n",
    "                record = sentence2record[sentence]\n",
    "\n",
    "                print(decoder.format_record(record), end=\"\\n\\n\",file=export_fd)\n"
   ]
  }
 ],
 "metadata": {
  "kernelspec": {
   "display_name": ".venv",
   "language": "python",
   "name": "python3"
  },
  "language_info": {
   "codemirror_mode": {
    "name": "ipython",
    "version": 3
   },
   "file_extension": ".py",
   "mimetype": "text/x-python",
   "name": "python",
   "nbconvert_exporter": "python",
   "pygments_lexer": "ipython3",
   "version": "3.10.12"
  }
 },
 "nbformat": 4,
 "nbformat_minor": 2
}
