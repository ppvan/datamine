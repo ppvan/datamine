{
 "cells": [
  {
   "cell_type": "markdown",
   "metadata": {},
   "source": [
    "**Table of contents**<a id='toc0_'></a>    \n",
    "- [Load dữ liệu từ các thư mục train và dev](#toc1_)    \n",
    "- [Pha huấn luyện](#toc2_)    \n",
    "  - [Task1: Nhận diện câu so sánh](#toc2_1_)    \n",
    "    - [Embbeding các câu trong dữ liệu huấn luyện](#toc2_1_1_)    \n",
    "    - [Embbedding các nhãn](#toc2_1_2_)    \n",
    "    - [Huấn luyện model](#toc2_1_3_)    \n",
    "    - [Đánh giá model](#toc2_1_4_)    \n",
    "    - [Chạy thử một vài ví dụ](#toc2_1_5_)    \n",
    "  - [Task 2: Extract đầy đủ cái đặc trưng của phép so sánh.](#toc2_2_)    \n",
    "    - [Tiền xử lý](#toc2_2_1_)    \n",
    "    - [Huấn luyện model](#toc2_2_2_)    \n",
    "- [Pha suy luận (dự đoán)](#toc3_)    \n",
    "  - [Task 1: Liệu câu có so sánh hay không?](#toc3_1_)    \n",
    "    - [Dự đoán nhãn](#toc3_1_1_)    \n",
    "    - [Hậu xử lý](#toc3_1_2_)    \n",
    "  - [Task 2: Chi tiết các vật thể được so sánh](#toc3_2_)    \n",
    "    - [Dự đoán](#toc3_2_1_)    \n",
    "    - [Hậu xử lý](#toc3_2_2_)    \n",
    "- [Tổng hợp và lưu dữ liệu](#toc4_)    \n",
    "\n",
    "<!-- vscode-jupyter-toc-config\n",
    "\tnumbering=false\n",
    "\tanchor=true\n",
    "\tflat=false\n",
    "\tminLevel=1\n",
    "\tmaxLevel=6\n",
    "\t/vscode-jupyter-toc-config -->\n",
    "<!-- THIS CELL WILL BE REPLACED ON TOC UPDATE. DO NOT WRITE YOUR TEXT IN THIS CELL -->"
   ]
  },
  {
   "cell_type": "markdown",
   "metadata": {},
   "source": [
    "# <a id='toc1_'></a>[Load dữ liệu từ các thư mục train và dev](#toc0_)\n",
    "\n",
    "> Dữ liệu được parse và format thành các Record (datatypes.py)"
   ]
  },
  {
   "cell_type": "code",
   "execution_count": 1,
   "metadata": {},
   "outputs": [
    {
     "name": "stdout",
     "output_type": "stream",
     "text": [
      "Record(original='Title: iPhone 12 Pro Max được trang DisplayMate “chấm” là chiếc smartphone có màn hình đẹp nhất hiện nay', sentence='Title : iPhone 12 Pro Max được trang DisplayMate “ chấm ” là chiếc smartphone có màn hình đẹp nhất hiện nay', quintuples=[{'subject': ['3&&iPhone', '4&&12', '5&&Pro', '6&&Max'], 'object': [], 'aspect': ['17&&màn', '18&&hình'], 'predicate': ['19&&đẹp', '20&&nhất', '21&&hiện', '22&&nay'], 'label': 'SUP+'}], comparative=['SUP+'])\n",
      "Record(original='alt:', sentence='alt :', quintuples=[], comparative=['No'])\n",
      "Record(original='des:', sentence='des :', quintuples=[], comparative=['No'])\n",
      "Record(original='Mới đây, chuyên trang đánh giá màn hình điện thoại DisplayMate đã vừa đưa ra kết luận rằng chiếc smartphone có màn hình đẹp nhất hiện nay không ai khác chính là iPhone 12 Pro Max.', sentence='Mới đây , chuyên trang đánh giá màn hình điện thoại DisplayMate đã vừa đưa ra kết luận rằng chiếc smartphone có màn hình đẹp nhất hiện nay không ai khác chính là iPhone 12 Pro Max .', quintuples=[{'subject': ['34&&iPhone', '35&&12', '36&&Pro', '37&&Max'], 'object': [], 'aspect': ['23&&màn', '24&&hình'], 'predicate': ['25&&đẹp', '26&&nhất', '27&&hiện', '28&&nay'], 'label': 'SUP+'}], comparative=['SUP+'])\n",
      "Record(original='iPhone 12 Pro Max được đánh giá là smartphone có màn hình đẹp nhất thời điểm hiện tại', sentence='iPhone 12 Pro Max được đánh giá là smartphone có màn hình đẹp nhất thời điểm hiện tại', quintuples=[{'subject': ['1&&iPhone', '2&&12', '3&&Pro', '4&&Max'], 'object': [], 'aspect': ['11&&màn', '12&&hình'], 'predicate': ['13&&đẹp', '14&&nhất', '15&&thời', '16&&điểm', '17&&hiện', '18&&tại'], 'label': 'SUP+'}], comparative=['SUP+'])\n",
      "Record(original='iPhone12 Pro Max là chiếc iPhone có màn hình lớn nhất từ trước đến nay, và đây cũng là chiếc smartphone có chất lượng hiển thị đẹp nhất hiện tại, theo trang chuyên đánh giá màn hình DisplayMate.', sentence='iPhone12 Pro Max là chiếc iPhone có màn hình lớn nhất từ trước đến nay , và đây cũng là chiếc smartphone có chất lượng hiển thị đẹp nhất hiện tại , theo trang chuyên đánh giá màn hình DisplayMate .', quintuples=[{'subject': ['1&&iPhone12', '2&&Pro', '3&&Max'], 'object': [], 'aspect': ['8&&màn', '9&&hình'], 'predicate': ['10&&lớn', '11&&nhất', '12&&từ', '13&&trước', '14&&đến', '15&&nay'], 'label': 'SUP'}, {'subject': ['1&&iPhone12', '2&&Pro', '3&&Max'], 'object': [], 'aspect': ['24&&chất', '25&&lượng', '26&&hiển', '27&&thị'], 'predicate': ['28&&đẹp', '29&&nhất', '30&&hiện', '31&&tại'], 'label': 'SUP+'}], comparative=['SUP', 'SUP+'])\n"
     ]
    }
   ],
   "source": [
    "%load_ext autoreload\n",
    "%autoreload 2\n",
    "\n",
    "from dataloader import DataLoader\n",
    "\n",
    "trainset = DataLoader.load_data(\"../data/train\") + DataLoader.load_data(\"../data/dev\")\n",
    "devset = DataLoader.load_data(\"../data/dev\")\n",
    "testset = DataLoader.load_data(\"../data/test\")\n",
    "# print(f\"{trainset[:3]=}\")\n",
    "# print(f\"{devset[:3]=}\")\n",
    "for i in range(6):\n",
    "    print(trainset[i])"
   ]
  },
  {
   "cell_type": "code",
   "execution_count": 2,
   "metadata": {},
   "outputs": [
    {
     "name": "stdout",
     "output_type": "stream",
     "text": [
      "1161\n",
      "5904\n"
     ]
    }
   ],
   "source": [
    "cnt = 0\n",
    "arr_comparative = []\n",
    "for record in trainset:\n",
    "    if 'No' not in record.comparative :\n",
    "        arr_comparative.append(cnt)\n",
    "        cnt += 1\n",
    "\n",
    "print(cnt)\n",
    "print(len(trainset))"
   ]
  },
  {
   "cell_type": "code",
   "execution_count": 3,
   "metadata": {},
   "outputs": [
    {
     "name": "stdout",
     "output_type": "stream",
     "text": [
      "[Record(original='Title: iPhone 12 Pro Max được trang DisplayMate “chấm” là chiếc smartphone có màn hình đẹp nhất hiện nay', sentence='Title : iPhone 12 Pro Max được trang DisplayMate “ chấm ” là chiếc smartphone có màn hình đẹp nhất hiện nay', quintuples=[{'subject': ['3&&iPhone', '4&&12', '5&&Pro', '6&&Max'], 'object': [], 'aspect': ['17&&màn', '18&&hình'], 'predicate': ['19&&đẹp', '20&&nhất', '21&&hiện', '22&&nay'], 'label': 'SUP+'}], comparative=['SUP+']), Record(original='Mới đây, chuyên trang đánh giá màn hình điện thoại DisplayMate đã vừa đưa ra kết luận rằng chiếc smartphone có màn hình đẹp nhất hiện nay không ai khác chính là iPhone 12 Pro Max.', sentence='Mới đây , chuyên trang đánh giá màn hình điện thoại DisplayMate đã vừa đưa ra kết luận rằng chiếc smartphone có màn hình đẹp nhất hiện nay không ai khác chính là iPhone 12 Pro Max .', quintuples=[{'subject': ['34&&iPhone', '35&&12', '36&&Pro', '37&&Max'], 'object': [], 'aspect': ['23&&màn', '24&&hình'], 'predicate': ['25&&đẹp', '26&&nhất', '27&&hiện', '28&&nay'], 'label': 'SUP+'}], comparative=['SUP+']), Record(original='iPhone 12 Pro Max được đánh giá là smartphone có màn hình đẹp nhất thời điểm hiện tại', sentence='iPhone 12 Pro Max được đánh giá là smartphone có màn hình đẹp nhất thời điểm hiện tại', quintuples=[{'subject': ['1&&iPhone', '2&&12', '3&&Pro', '4&&Max'], 'object': [], 'aspect': ['11&&màn', '12&&hình'], 'predicate': ['13&&đẹp', '14&&nhất', '15&&thời', '16&&điểm', '17&&hiện', '18&&tại'], 'label': 'SUP+'}], comparative=['SUP+']), Record(original='iPhone12 Pro Max là chiếc iPhone có màn hình lớn nhất từ trước đến nay, và đây cũng là chiếc smartphone có chất lượng hiển thị đẹp nhất hiện tại, theo trang chuyên đánh giá màn hình DisplayMate.', sentence='iPhone12 Pro Max là chiếc iPhone có màn hình lớn nhất từ trước đến nay , và đây cũng là chiếc smartphone có chất lượng hiển thị đẹp nhất hiện tại , theo trang chuyên đánh giá màn hình DisplayMate .', quintuples=[{'subject': ['1&&iPhone12', '2&&Pro', '3&&Max'], 'object': [], 'aspect': ['24&&chất', '25&&lượng', '26&&hiển', '27&&thị'], 'predicate': ['28&&đẹp', '29&&nhất', '30&&hiện', '31&&tại'], 'label': 'SUP+'}], comparative=['SUP', 'SUP+'])]\n",
      "1560\n"
     ]
    }
   ],
   "source": [
    "from processing import RecordEncoder\n",
    "from utils import dupplicate_record_by_quintuple\n",
    "\n",
    "cleaned_trainset = []\n",
    "for record in trainset:\n",
    "    if not record.quintuples:\n",
    "        continue\n",
    "\n",
    "    cleaned_trainset.extend(dupplicate_record_by_quintuple(record))\n",
    "    \n",
    "print(cleaned_trainset[:4])\n",
    "print(len(cleaned_trainset))"
   ]
  },
  {
   "cell_type": "code",
   "execution_count": 4,
   "metadata": {},
   "outputs": [
    {
     "name": "stdout",
     "output_type": "stream",
     "text": [
      "509\n"
     ]
    }
   ],
   "source": [
    "cnt = 0\n",
    "for record in cleaned_trainset:\n",
    "    if len(record.quintuples[0]['predicate']) == 2:\n",
    "        #print(record.quintuples[0]['predicate'])\n",
    "        cnt += 1\n",
    "print(cnt)"
   ]
  },
  {
   "cell_type": "code",
   "execution_count": 5,
   "metadata": {},
   "outputs": [
    {
     "name": "stdout",
     "output_type": "stream",
     "text": [
      "['5&&các', '6&&mẫu', '7&&điện', '8&&thoại', '9&&mới', '10&&ra', '11&&mắt', '12&&của', '13&&nhà', '14&&Samsung']\n",
      "[]\n",
      "[]\n",
      "['23&&2', '24&&chiếc', '25&&máy', '26&&này']\n",
      "['23&&2', '24&&chiếc', '25&&máy', '26&&này']\n",
      "['2&&hai', '3&&máy', '4&&ảnh']\n",
      "[]\n",
      "[]\n",
      "[]\n",
      "[]\n",
      "[]\n",
      "['10&&hai', '11&&nửa']\n",
      "['14&&cả', '15&&hai']\n",
      "[]\n",
      "[]\n",
      "[]\n",
      "[]\n",
      "[]\n",
      "[]\n",
      "[]\n",
      "['1&&Cả', '2&&hai', '3&&điện', '4&&thoại']\n",
      "['9&&hai', '10&&máy']\n",
      "['3&&hai', '4&&chip', '5&&xử', '6&&lý']\n",
      "[]\n",
      "[]\n",
      "[]\n",
      "[]\n",
      "[]\n",
      "[]\n",
      "[]\n",
      "[]\n",
      "[]\n",
      "[]\n",
      "[]\n",
      "['6&&2', '7&&mẫu', '8&&điện', '9&&thoại']\n",
      "[]\n",
      "['7&&hai', '8&&chiếc', '9&&máy']\n",
      "[]\n",
      "[]\n",
      "[]\n",
      "[]\n",
      "[]\n",
      "['1&&Cả', '2&&hai']\n",
      "[]\n",
      "[]\n",
      "['15&&hai', '16&&model', '17&&này']\n",
      "['1&&Cả', '2&&hai']\n",
      "['6&&cả', '7&&hai']\n",
      "[]\n",
      "[]\n",
      "['7&&cả', '8&&hai']\n",
      "[]\n",
      "[]\n",
      "[]\n",
      "[]\n",
      "[]\n",
      "['4&&cả', '5&&hai', '6&&điện', '7&&thoại']\n",
      "[]\n",
      "['1&&Cả', '2&&hai', '3&&điện', '4&&thoại']\n",
      "['1&&Cả', '2&&hai', '3&&điện', '4&&thoại']\n",
      "['1&&Cả', '2&&hai', '3&&thiết', '4&&bị']\n",
      "['4&&cả', '5&&hai', '6&&điện', '7&&thoại']\n",
      "['4&&cả', '5&&hai', '6&&điện', '7&&thoại']\n",
      "['4&&cả', '5&&hai', '6&&điện', '7&&thoại']\n",
      "['4&&cả', '5&&hai', '6&&điện', '7&&thoại']\n",
      "['1&&Hai', '2&&điện', '3&&thoại']\n",
      "[]\n",
      "[]\n",
      "[]\n",
      "[]\n",
      "[]\n",
      "[]\n",
      "[]\n",
      "[]\n",
      "[]\n",
      "['5&&hai', '6&&sản', '7&&phẩm', '8&&này']\n",
      "['1&&Cả', '2&&hai']\n",
      "['10&&cả', '11&&hai']\n",
      "['10&&cả', '11&&hai']\n",
      "['10&&cả', '11&&hai']\n",
      "['6&&cả', '7&&hai']\n",
      "['4&&cả', '5&&hai']\n",
      "[]\n",
      "[]\n",
      "[]\n",
      "['16&&2', '17&&thế', '18&&hệ', '19&&này']\n",
      "['16&&2', '17&&thế', '18&&hệ', '19&&này']\n",
      "['1&&Cả', '2&&hai', '3&&điện', '4&&thoại']\n",
      "['1&&Cả', '2&&hai', '3&&điện', '4&&thoại']\n",
      "['1&&Cả', '2&&hai']\n",
      "['3&&ảnh', '4&&chụp', '5&&đêm', '6&&của', '7&&2', '8&&smartphone']\n",
      "['3&&ảnh', '4&&chụp', '5&&đêm', '6&&của', '7&&2', '8&&smartphone']\n",
      "['7&&hai', '8&&chiếc', '9&&máy']\n",
      "['47&&hai', '48&&smartphone', '49&&này']\n",
      "['47&&hai', '48&&smartphone', '49&&này']\n",
      "['4&&hai', '5&&sản', '6&&phẩm', '7&&nhà', '8&&Samsung']\n",
      "['5&&cả', '6&&hai', '7&&smartphone', '8&&nhà', '9&&Samsung']\n",
      "['1&&Hai', '2&&thiết', '3&&bị']\n",
      "['1&&Hai', '2&&thiết', '3&&bị']\n",
      "[]\n",
      "[]\n",
      "[]\n",
      "[]\n",
      "['1&&Cả', '2&&hai', '3&&điện', '4&&thoại']\n",
      "['10&&các', '11&&thiết', '12&&bị']\n",
      "[]\n",
      "[]\n",
      "[]\n",
      "['3&&cả', '4&&2', '5&&chiếc', '6&&điện', '7&&thoại', '8&&này']\n",
      "['3&&cả', '4&&2', '5&&chiếc', '6&&điện', '7&&thoại', '8&&này']\n",
      "[]\n",
      "['1&&Cả', '2&&2', '3&&điện', '4&&thoại']\n",
      "['1&&Cả', '2&&2']\n",
      "['1&&Cả', '2&&2', '3&&phiên', '4&&bản', '5&&Samsung', '6&&này']\n",
      "['1&&Hai', '2&&bộ', '3&&vi', '4&&xử', '5&&lý', '6&&này']\n",
      "['1&&Cả', '2&&2', '3&&máy']\n",
      "['17&&cả', '18&&2', '19&&máy']\n",
      "['17&&cả', '18&&2', '19&&máy']\n",
      "[]\n",
      "['3&&cả', '4&&2']\n",
      "[]\n",
      "[]\n",
      "['5&&dòng', '6&&điện', '7&&thoại', '8&&này']\n",
      "['32&&cả', '33&&2', '34&&dòng', '35&&điện', '36&&thoại']\n",
      "['32&&cả', '33&&2', '34&&dòng', '35&&điện', '36&&thoại']\n",
      "['15&&2', '16&&dòng', '17&&điện', '18&&thoại', '19&&này']\n",
      "['11&&cả', '12&&2', '13&&dòng', '14&&điện', '15&&thoại', '16&&này']\n",
      "['11&&cả', '12&&2', '13&&dòng', '14&&điện', '15&&thoại', '16&&này']\n",
      "['15&&cả', '16&&3', '17&&điện', '18&&thoại', '19&&của', '20&&dòng', '21&&iPhone', '22&&11']\n",
      "['1&&Đa', '2&&số', '3&&các', '4&&dòng', '5&&điện', '6&&thoại']\n",
      "['3&&Cả', '4&&2', '5&&dòng', '6&&điện', '7&&thoại']\n",
      "['12&&tất', '13&&cả', '14&&các', '15&&dòng', '16&&điện', '17&&thoại', '18&&về', '19&&sau', '20&&của', '21&&Apple']\n",
      "['5&&cả', '6&&ba', '7&&điện', '8&&thoại']\n",
      "[]\n",
      "[]\n",
      "['4&&cả', '5&&hai', '6&&điện', '7&&thoại']\n",
      "['1&&Cả', '2&&2', '3&&chiếc', '4&&điện', '5&&thoại']\n",
      "['1&&Cả', '2&&2', '3&&chiếc', '4&&điện', '5&&thoại']\n",
      "['6&&cả', '7&&hai', '8&&máy']\n",
      "['2&&cả', '3&&2', '4&&thiết', '5&&bị']\n",
      "['5&&cả', '6&&hai', '7&&sản', '8&&phẩm']\n",
      "[]\n",
      "[]\n",
      "['1&&Cả', '2&&hai', '3&&dòng', '4&&máy', '5&&này']\n",
      "['7&&hai', '8&&thiết', '9&&bị']\n",
      "['11&&cả', '12&&hai', '13&&sản', '14&&phẩm']\n",
      "['3&&Cả', '4&&hai', '5&&dòng', '6&&máy']\n",
      "['1&&Cả', '2&&hai', '3&&dòng', '4&&máy']\n",
      "['4&&hai', '5&&thiết', '6&&bị']\n",
      "['4&&hai', '5&&thiết', '6&&bị']\n",
      "[]\n",
      "['5&&cả', '6&&ba', '7&&máy']\n",
      "['5&&cả', '6&&ba']\n",
      "['7&&cả', '8&&ba', '9&&mẫu', '10&&máy']\n",
      "['1&&Cả', '2&&ba', '3&&mẫu', '4&&máy']\n",
      "['18&&cả', '19&&ba']\n",
      "['14&&cả', '15&&hai']\n",
      "['14&&cả', '15&&hai']\n",
      "['5&&cả', '6&&hai']\n",
      "['5&&cả', '6&&hai']\n",
      "['19&&cả', '20&&hai']\n",
      "[]\n",
      "['2&&cả', '3&&hai']\n",
      "['9&&thiết', '10&&kế', '11&&của', '12&&bộ', '13&&đôi', '14&&này']\n",
      "['14&&bộ', '15&&đôi', '16&&này']\n",
      "['1&&Cả', '2&&hai']\n",
      "['1&&Cả', '2&&hai', '3&&điện', '4&&thoại']\n",
      "['2&&điện', '3&&thoại', '4&&màn', '5&&hình', '6&&gập', '7&&Galaxy', '8&&Z', '9&&Fold', '10&&4']\n",
      "['8&&cả', '9&&hai']\n",
      "['1&&Cả', '2&&hai', '3&&điện', '4&&thoại']\n",
      "['1&&Cả', '2&&hai', '3&&điện', '4&&thoại']\n",
      "['4&&cả', '5&&hai', '6&&điện', '7&&thoại']\n",
      "['5&&hai', '6&&điện', '7&&thoại']\n",
      "['1&&Cả', '2&&hai', '3&&dòng', '4&&smartphone', '5&&cao', '6&&cấp']\n",
      "['1&&Cả', '2&&hai', '3&&smartphone']\n",
      "['7&&cả', '8&&hai', '9&&smartphone']\n",
      "['1&&Cả', '2&&hai']\n",
      "[]\n",
      "['27&&bộ', '28&&đôi', '29&&điện', '30&&thoại']\n",
      "['27&&bộ', '28&&đôi', '29&&điện', '30&&thoại']\n",
      "['27&&bộ', '28&&đôi', '29&&điện', '30&&thoại']\n",
      "['1&&Cả', '2&&hai']\n",
      "['1&&Cả', '2&&hai']\n",
      "[]\n",
      "[]\n",
      "['14&&hai', '15&&dòng', '16&&sản', '17&&phẩm', '18&&này']\n",
      "['7&&cả', '8&&2', '9&&dòng', '10&&này']\n",
      "['5&&hai', '6&&dòng', '7&&sản', '8&&phẩm']\n",
      "['4&&2', '5&&dòng', '6&&điện', '7&&thoại']\n",
      "['1&&Cả', '2&&2', '3&&dòng', '4&&điện', '5&&thoại']\n",
      "['1&&Cả', '2&&2', '3&&dòng', '4&&điện', '5&&thoại']\n",
      "['23&&cả', '24&&2', '25&&dòng', '26&&điện', '27&&thoại', '28&&này']\n",
      "['1&&Cả', '2&&2', '3&&chiếc', '4&&điện', '5&&thoại']\n",
      "['3&&Cả', '4&&2', '5&&dòng', '6&&điện', '7&&thoại']\n",
      "['1&&Cả', '2&&2', '3&&dòng', '4&&điện', '5&&thoại']\n",
      "['4&&cả', '5&&hai', '6&&máy']\n",
      "['3&&Cả', '4&&hai', '5&&điện', '6&&thoại']\n",
      "['1&&Cả', '2&&hai', '3&&điện', '4&&thoại']\n",
      "['1&&Cả', '2&&hai']\n",
      "['1&&Cả', '2&&hai']\n",
      "['19&&cả', '20&&hai']\n",
      "['3&&Cả', '4&&hai', '5&&điện', '6&&thoại']\n",
      "['6&&hai', '7&&chiếc', '8&&smartphone']\n",
      "['4&&cả', '5&&hai', '6&&máy']\n",
      "['4&&hai', '5&&máy']\n",
      "['1&&Cả', '2&&hai', '3&&máy']\n",
      "['1&&Cả', '2&&hai', '3&&chiếc', '4&&smartphone']\n",
      "['1&&Hai', '2&&chiếc', '3&&điện', '4&&thoại']\n",
      "['1&&Camera', '2&&chính']\n",
      "['1&&Cả', '2&&hai', '3&&máy']\n",
      "[]\n",
      "[]\n",
      "[]\n",
      "[]\n",
      "['9&&hai', '10&&chiếc', '11&&điện', '12&&thoại', '13&&này']\n",
      "['1&&Cả', '2&&hai', '3&&chiếc', '4&&smartphone']\n",
      "['16&&hai', '17&&sản', '18&&phẩm', '19&&này']\n",
      "['1&&Cả', '2&&hai', '3&&chiếc', '4&&điện', '5&&thoại']\n",
      "['7&&hai', '8&&chiếc', '9&&smartphone', '10&&đến', '11&&từ', '12&&thương', '13&&hiệu', '14&&Samsung']\n",
      "['17&&hai', '18&&chiếc', '19&&điện', '20&&thoại']\n",
      "[]\n",
      "[]\n",
      "[]\n",
      "['1&&Cả', '2&&hai', '3&&chiếc', '4&&điện', '5&&thoại']\n",
      "['1&&Mỗi', '2&&điện', '3&&thoại']\n",
      "[]\n",
      "[]\n",
      "['14&&bộ', '15&&đôi', '16&&điện', '17&&thoại', '18&&này']\n",
      "[]\n",
      "['1&&Cả', '2&&hai', '3&&điện', '4&&thoại', '5&&này']\n",
      "['1&&Cả', '2&&hai', '3&&điện', '4&&thoại', '5&&này']\n",
      "[]\n",
      "[]\n",
      "['1&&Hai', '2&&sản', '3&&phẩm', '4&&này']\n",
      "[]\n",
      "['7&&hai', '8&&sản', '9&&phẩm', '10&&này']\n",
      "[]\n",
      "[]\n",
      "[]\n",
      "[]\n",
      "[]\n",
      "['1&&Cả', '2&&hai', '3&&thiết', '4&&bị']\n",
      "[]\n",
      "['9&&hai', '10&&thiết', '11&&bị', '12&&này']\n",
      "['7&&hai', '8&&thiết', '9&&bị', '10&&này']\n",
      "['23&&cả', '24&&hai', '25&&flagship', '26&&này']\n",
      "['1&&Cả', '2&&hai', '3&&chiếc', '4&&flagship', '5&&thế', '6&&hệ', '7&&mới', '8&&nhất', '9&&từ', '10&&Xiaomi', '11&&và', '12&&Apple']\n",
      "['1&&Cả', '2&&hai', '3&&model']\n",
      "['1&&Cả', '2&&hai', '3&&model']\n",
      "['1&&Cả', '2&&hai', '3&&chipset']\n",
      "[]\n",
      "['8&&2', '9&&dòng', '10&&điện', '11&&thoại', '12&&đến', '13&&từ', '14&&2', '15&&nhà', '16&&Samsung', '17&&và', '18&&Vivo']\n",
      "['8&&2', '9&&dòng', '10&&điện', '11&&thoại', '12&&đến', '13&&từ', '14&&2', '15&&nhà', '16&&Samsung', '17&&và', '18&&Vivo']\n",
      "['10&&2', '11&&dòng', '12&&điện', '13&&thoại', '14&&này']\n",
      "['10&&2', '11&&dòng', '12&&điện', '13&&thoại', '14&&này']\n",
      "[]\n",
      "['1&&2', '2&&chipset', '3&&được', '4&&dùng', '5&&cho', '6&&2', '7&&dòng', '8&&máy', '9&&này']\n",
      "['1&&2', '2&&chipset', '3&&được', '4&&dùng', '5&&cho', '6&&2', '7&&dòng', '8&&máy', '9&&này']\n",
      "['1&&Cả', '2&&2', '3&&dòng', '4&&máy']\n",
      "[]\n",
      "[]\n",
      "[]\n",
      "[]\n",
      "[]\n",
      "['1&&Cả', '2&&hai']\n",
      "['6&&cả', '7&&hai']\n",
      "['6&&cả', '7&&hai']\n",
      "['1&&Cả', '2&&hai']\n",
      "['1&&Cả', '2&&hai', '3&&điện', '4&&thoại']\n",
      "['1&&Cả', '2&&hai', '3&&điện', '4&&thoại']\n",
      "['4&&cả', '5&&hai', '6&&phiên', '7&&bản']\n",
      "['8&&hai', '9&&chiếc', '10&&điện', '11&&thoại']\n",
      "['14&&cả', '15&&2']\n",
      "['14&&cả', '15&&2']\n",
      "['1&&Cả', '2&&hai', '3&&điện', '4&&thoại']\n",
      "['10&&cả', '11&&hai']\n",
      "['10&&cả', '11&&hai']\n",
      "['1&&Màn', '2&&hình', '3&&hai', '4&&máy']\n",
      "['1&&Cả', '2&&hai']\n",
      "['5&&hai', '6&&mẫu', '7&&flagship', '8&&Android', '9&&mới']\n",
      "['11&&cả', '12&&hai', '13&&điện', '14&&thoại']\n",
      "[]\n",
      "[]\n",
      "['7&&cả', '8&&hai']\n",
      "['18&&cả', '19&&hai', '20&&flagship', '21&&mới']\n",
      "[]\n",
      "[]\n",
      "287\n"
     ]
    }
   ],
   "source": [
    "cnt = 0\n",
    "for record in cleaned_trainset:\n",
    "    if record.quintuples[0]['subject'] == record.quintuples[0]['object']:\n",
    "        cnt += 1\n",
    "        print(record.quintuples[0]['subject'])\n",
    "print(cnt)"
   ]
  },
  {
   "cell_type": "markdown",
   "metadata": {},
   "source": [
    "# <a id='toc2_'></a>[Pha huấn luyện](#toc0_)\n",
    "\n",
    "## <a id='toc2_1_'></a>[Task1: Nhận diện câu so sánh](#toc0_)\n",
    "\n",
    "Phương pháp: Sử dụng model RandomForest để nhận diện đa nhãn (do mỗi câu có thể nhiều câu so sánh)\n",
    "- Embbeding các câu và label\n",
    "- Huấn luyện model sử dụng dữ liệu dạng vector ở bước trên"
   ]
  },
  {
   "cell_type": "markdown",
   "metadata": {},
   "source": [
    "### <a id='toc2_1_1_'></a>[Embbeding các câu trong dữ liệu huấn luyện](#toc0_)"
   ]
  },
  {
   "cell_type": "code",
   "execution_count": 6,
   "metadata": {},
   "outputs": [
    {
     "name": "stdout",
     "output_type": "stream",
     "text": [
      "(5904, 187)\n"
     ]
    }
   ],
   "source": [
    "from sklearn.feature_extraction.text import TfidfVectorizer\n",
    "\n",
    "tfidf_vec = TfidfVectorizer(lowercase=False, min_df=0.02, use_idf=False)\n",
    "\n",
    "sentences = [record.sentence for record in trainset]\n",
    "embeded_sentences = tfidf_vec.fit_transform(sentences)\n",
    "\n",
    "print(embeded_sentences.shape)"
   ]
  },
  {
   "cell_type": "code",
   "execution_count": 32,
   "metadata": {},
   "outputs": [
    {
     "data": {
      "text/plain": [
       "['SUP+']"
      ]
     },
     "execution_count": 32,
     "metadata": {},
     "output_type": "execute_result"
    }
   ],
   "source": [
    "trainset[0].comparative"
   ]
  },
  {
   "cell_type": "markdown",
   "metadata": {},
   "source": [
    "### <a id='toc2_1_2_'></a>[Embbedding các nhãn](#toc0_)"
   ]
  },
  {
   "cell_type": "code",
   "execution_count": 7,
   "metadata": {},
   "outputs": [],
   "source": [
    "from sklearn.preprocessing import MultiLabelBinarizer\n",
    "\n",
    "labels = [record.comparative for record in trainset]\n",
    "label_classes = [\"No\", \"DIF\", \"EQL\", \"SUP+\", \"SUP-\", \"SUP\", \"COM+\", \"COM-\", \"COM\"]\n",
    "\n",
    "multilabel_model = MultiLabelBinarizer(classes=label_classes)\n",
    "embeded_labels = multilabel_model.fit_transform(labels)"
   ]
  },
  {
   "cell_type": "markdown",
   "metadata": {},
   "source": [
    "### <a id='toc2_1_3_'></a>[Huấn luyện model](#toc0_)"
   ]
  },
  {
   "cell_type": "code",
   "execution_count": 34,
   "metadata": {},
   "outputs": [
    {
     "name": "stdout",
     "output_type": "stream",
     "text": [
      "[3, 0, 0, 3, 3]\n"
     ]
    }
   ],
   "source": [
    "label_classes = [\"No\", \"DIF\", \"EQL\", \"SUP+\", \"SUP-\", \"SUP\", \"COM+\", \"COM-\", \"COM\"]\n",
    "d = {\"No\":0,\"DIF\":1,\"EQL\":2,\"SUP+\":3,\"SUP-\":4,\"SUP\":5,\"COM+\":6,\"COM-\":7,\"COM\":8}\n",
    "zz = []\n",
    "for label in labels:\n",
    "    zz.append(d[label[0]])\n",
    "print(zz[:5])"
   ]
  },
  {
   "cell_type": "code",
   "execution_count": 35,
   "metadata": {},
   "outputs": [],
   "source": [
    "from sklearn.ensemble import RandomForestClassifier\n",
    "from sklearn.model_selection import train_test_split\n",
    "from sklearn.metrics import accuracy_score, classification_report\n",
    "from imblearn.over_sampling import RandomOverSampler\n",
    "ros = RandomOverSampler()\n",
    "X_resampled, y_resampled = ros.fit_resample(embeded_sentences, zz)\n",
    "\n",
    "X_train, X_val, y_train, y_val = train_test_split(X_resampled, y_resampled, test_size=0.3)\n",
    "#x_train, x_val, y_train, y_val = train_test_split(embeded_sentences, embeded_labels, test_size=0.2, random_state=5)\n"
   ]
  },
  {
   "cell_type": "code",
   "execution_count": 36,
   "metadata": {},
   "outputs": [
    {
     "name": "stdout",
     "output_type": "stream",
     "text": [
      "x_train.shape=(4723, 187)\n",
      "x_train.shape=(4723, 187)\n",
      "[[0 0 0 1 0 0 0 0 0]\n",
      " [1 0 0 0 0 0 0 0 0]\n",
      " [1 0 0 0 0 0 0 0 0]\n",
      " [0 0 0 1 0 0 0 0 0]\n",
      " [0 0 0 1 0 0 0 0 0]\n",
      " [0 0 0 1 0 1 0 0 0]\n",
      " [1 0 0 0 0 0 0 0 0]\n",
      " [0 0 0 1 0 0 0 0 0]\n",
      " [1 0 0 0 0 0 0 0 0]\n",
      " [1 0 0 0 0 0 0 0 0]]\n"
     ]
    }
   ],
   "source": [
    "print(f\"{x_train.shape=}\")\n",
    "print(f\"{x_train.shape=}\")\n",
    "print(embeded_labels[:10])"
   ]
  },
  {
   "cell_type": "code",
   "execution_count": 38,
   "metadata": {},
   "outputs": [
    {
     "data": {
      "text/html": [
       "<style>#sk-container-id-4 {color: black;background-color: white;}#sk-container-id-4 pre{padding: 0;}#sk-container-id-4 div.sk-toggleable {background-color: white;}#sk-container-id-4 label.sk-toggleable__label {cursor: pointer;display: block;width: 100%;margin-bottom: 0;padding: 0.3em;box-sizing: border-box;text-align: center;}#sk-container-id-4 label.sk-toggleable__label-arrow:before {content: \"▸\";float: left;margin-right: 0.25em;color: #696969;}#sk-container-id-4 label.sk-toggleable__label-arrow:hover:before {color: black;}#sk-container-id-4 div.sk-estimator:hover label.sk-toggleable__label-arrow:before {color: black;}#sk-container-id-4 div.sk-toggleable__content {max-height: 0;max-width: 0;overflow: hidden;text-align: left;background-color: #f0f8ff;}#sk-container-id-4 div.sk-toggleable__content pre {margin: 0.2em;color: black;border-radius: 0.25em;background-color: #f0f8ff;}#sk-container-id-4 input.sk-toggleable__control:checked~div.sk-toggleable__content {max-height: 200px;max-width: 100%;overflow: auto;}#sk-container-id-4 input.sk-toggleable__control:checked~label.sk-toggleable__label-arrow:before {content: \"▾\";}#sk-container-id-4 div.sk-estimator input.sk-toggleable__control:checked~label.sk-toggleable__label {background-color: #d4ebff;}#sk-container-id-4 div.sk-label input.sk-toggleable__control:checked~label.sk-toggleable__label {background-color: #d4ebff;}#sk-container-id-4 input.sk-hidden--visually {border: 0;clip: rect(1px 1px 1px 1px);clip: rect(1px, 1px, 1px, 1px);height: 1px;margin: -1px;overflow: hidden;padding: 0;position: absolute;width: 1px;}#sk-container-id-4 div.sk-estimator {font-family: monospace;background-color: #f0f8ff;border: 1px dotted black;border-radius: 0.25em;box-sizing: border-box;margin-bottom: 0.5em;}#sk-container-id-4 div.sk-estimator:hover {background-color: #d4ebff;}#sk-container-id-4 div.sk-parallel-item::after {content: \"\";width: 100%;border-bottom: 1px solid gray;flex-grow: 1;}#sk-container-id-4 div.sk-label:hover label.sk-toggleable__label {background-color: #d4ebff;}#sk-container-id-4 div.sk-serial::before {content: \"\";position: absolute;border-left: 1px solid gray;box-sizing: border-box;top: 0;bottom: 0;left: 50%;z-index: 0;}#sk-container-id-4 div.sk-serial {display: flex;flex-direction: column;align-items: center;background-color: white;padding-right: 0.2em;padding-left: 0.2em;position: relative;}#sk-container-id-4 div.sk-item {position: relative;z-index: 1;}#sk-container-id-4 div.sk-parallel {display: flex;align-items: stretch;justify-content: center;background-color: white;position: relative;}#sk-container-id-4 div.sk-item::before, #sk-container-id-4 div.sk-parallel-item::before {content: \"\";position: absolute;border-left: 1px solid gray;box-sizing: border-box;top: 0;bottom: 0;left: 50%;z-index: -1;}#sk-container-id-4 div.sk-parallel-item {display: flex;flex-direction: column;z-index: 1;position: relative;background-color: white;}#sk-container-id-4 div.sk-parallel-item:first-child::after {align-self: flex-end;width: 50%;}#sk-container-id-4 div.sk-parallel-item:last-child::after {align-self: flex-start;width: 50%;}#sk-container-id-4 div.sk-parallel-item:only-child::after {width: 0;}#sk-container-id-4 div.sk-dashed-wrapped {border: 1px dashed gray;margin: 0 0.4em 0.5em 0.4em;box-sizing: border-box;padding-bottom: 0.4em;background-color: white;}#sk-container-id-4 div.sk-label label {font-family: monospace;font-weight: bold;display: inline-block;line-height: 1.2em;}#sk-container-id-4 div.sk-label-container {text-align: center;}#sk-container-id-4 div.sk-container {/* jupyter's `normalize.less` sets `[hidden] { display: none; }` but bootstrap.min.css set `[hidden] { display: none !important; }` so we also need the `!important` here to be able to override the default hidden behavior on the sphinx rendered scikit-learn.org. See: https://github.com/scikit-learn/scikit-learn/issues/21755 */display: inline-block !important;position: relative;}#sk-container-id-4 div.sk-text-repr-fallback {display: none;}</style><div id=\"sk-container-id-4\" class=\"sk-top-container\"><div class=\"sk-text-repr-fallback\"><pre>RandomForestClassifier(class_weight=&#x27;balanced&#x27;, criterion=&#x27;entropy&#x27;,\n",
       "                       max_depth=16, n_estimators=200, random_state=0)</pre><b>In a Jupyter environment, please rerun this cell to show the HTML representation or trust the notebook. <br />On GitHub, the HTML representation is unable to render, please try loading this page with nbviewer.org.</b></div><div class=\"sk-container\" hidden><div class=\"sk-item\"><div class=\"sk-estimator sk-toggleable\"><input class=\"sk-toggleable__control sk-hidden--visually\" id=\"sk-estimator-id-10\" type=\"checkbox\" checked><label for=\"sk-estimator-id-10\" class=\"sk-toggleable__label sk-toggleable__label-arrow\">RandomForestClassifier</label><div class=\"sk-toggleable__content\"><pre>RandomForestClassifier(class_weight=&#x27;balanced&#x27;, criterion=&#x27;entropy&#x27;,\n",
       "                       max_depth=16, n_estimators=200, random_state=0)</pre></div></div></div></div></div>"
      ],
      "text/plain": [
       "RandomForestClassifier(class_weight='balanced', criterion='entropy',\n",
       "                       max_depth=16, n_estimators=200, random_state=0)"
      ]
     },
     "execution_count": 38,
     "metadata": {},
     "output_type": "execute_result"
    }
   ],
   "source": [
    "from sklearn.multioutput import MultiOutputClassifier\n",
    "\n",
    "randomforest_model = RandomForestClassifier(n_estimators = 200, criterion = 'entropy',max_depth = 16, class_weight='balanced', random_state=0)\n",
    "#multioutput_classifier = MultiOutputClassifier(randomforest_model)\n",
    "#multioutput_classifier.fit(x_train, y_train)\n",
    "randomforest_model.fit(X_train,y_train)\n",
    "#multioutput_classifier.fit(embeded_sentences, embeded_labels)"
   ]
  },
  {
   "cell_type": "code",
   "execution_count": 11,
   "metadata": {},
   "outputs": [],
   "source": [
    "# from catboost import CatBoostClassifier\n",
    "# from lightgbm import LGBMClassifier\n",
    "# from sklearn.ensemble import RandomForestClassifier, VotingClassifier\n",
    "# from sklearn.multioutput import MultiOutputClassifier\n",
    "\n",
    "# # Initialize individual classifiers\n",
    "# catboost_classifier = CatBoostClassifier(iterations=500, depth=6, learning_rate=0.1)\n",
    "# lgbm_classifier = LGBMClassifier(num_leaves=31, learning_rate=0.05, n_estimators=100)\n",
    "# rf_classifier = RandomForestClassifier(n_estimators=200, max_depth=12)\n",
    "\n",
    "# # Wrap individual classifiers with MultiOutputClassifier\n",
    "# mo_catboost_classifier = MultiOutputClassifier(catboost_classifier)\n",
    "# mo_lgbm_classifier = MultiOutputClassifier(lgbm_classifier)\n",
    "# mo_rf_classifier = MultiOutputClassifier(rf_classifier)\n",
    "\n",
    "# # Create a VotingClassifier\n",
    "# voting_classifier = VotingClassifier(\n",
    "#     estimators=[\n",
    "#         ('catboost', mo_catboost_classifier),\n",
    "#         ('lgbm', mo_lgbm_classifier),\n",
    "#         ('rf', mo_rf_classifier)\n",
    "#     ],\n",
    "#     voting='soft'  # You can use 'hard' or 'soft' voting\n",
    "# )\n",
    "\n",
    "# # Fit the ensemble model\n",
    "# voting_classifier.fit(x_train, y_train)"
   ]
  },
  {
   "cell_type": "markdown",
   "metadata": {},
   "source": [
    "### <a id='toc2_1_4_'></a>[Đánh giá model](#toc0_)"
   ]
  },
  {
   "cell_type": "code",
   "execution_count": 39,
   "metadata": {},
   "outputs": [
    {
     "name": "stdout",
     "output_type": "stream",
     "text": [
      "Accuracy =  0.9761068165846802\n",
      "              precision    recall  f1-score   support\n",
      "\n",
      "           0       0.92      0.88      0.90      1432\n",
      "           1       0.99      1.00      1.00      1419\n",
      "           2       0.97      0.95      0.96      1451\n",
      "           3       0.97      0.99      0.98      1446\n",
      "           4       1.00      1.00      1.00      1424\n",
      "           5       1.00      1.00      1.00      1364\n",
      "           6       0.94      0.97      0.96      1472\n",
      "           7       0.99      1.00      1.00      1375\n",
      "           8       0.99      1.00      1.00      1424\n",
      "\n",
      "    accuracy                           0.98     12807\n",
      "   macro avg       0.98      0.98      0.98     12807\n",
      "weighted avg       0.98      0.98      0.98     12807\n",
      "\n"
     ]
    }
   ],
   "source": [
    "#y_preds = multioutput_classifier.predict(x_val)\n",
    "y_preds = randomforest_model.predict(X_val)\n",
    "\n",
    "print('Accuracy = ', accuracy_score(y_val, y_preds))\n",
    "report = classification_report(y_val, y_preds)\n",
    "print(report)"
   ]
  },
  {
   "cell_type": "markdown",
   "metadata": {},
   "source": [
    "### <a id='toc2_1_5_'></a>[Chạy thử một vài ví dụ](#toc0_)"
   ]
  },
  {
   "cell_type": "code",
   "execution_count": 13,
   "metadata": {},
   "outputs": [
    {
     "name": "stdout",
     "output_type": "stream",
     "text": [
      "[('No',)]\n",
      "[[1 0 0 0 0 0 0 0 0]]\n"
     ]
    }
   ],
   "source": [
    "sample_sentence = \"des :\"\n",
    "embeded_sentence = tfidf_vec.transform([sample_sentence])\n",
    "prediction = multioutput_classifier.predict(embeded_sentence)\n",
    "print(multilabel_model.inverse_transform(prediction))\n",
    "print(prediction)"
   ]
  },
  {
   "cell_type": "code",
   "execution_count": 14,
   "metadata": {},
   "outputs": [
    {
     "data": {
      "text/plain": [
       "<1x187 sparse matrix of type '<class 'numpy.float64'>'\n",
       "\twith 1 stored elements in Compressed Sparse Row format>"
      ]
     },
     "execution_count": 14,
     "metadata": {},
     "output_type": "execute_result"
    }
   ],
   "source": [
    "embeded_sentence"
   ]
  },
  {
   "cell_type": "markdown",
   "metadata": {},
   "source": [
    "\n"
   ]
  },
  {
   "cell_type": "markdown",
   "metadata": {},
   "source": [
    "### <a id='toc2_2_1_'></a>[Tiền xử lý](#toc0_)"
   ]
  },
  {
   "cell_type": "code",
   "execution_count": 15,
   "metadata": {},
   "outputs": [],
   "source": [
    "from processing import RecordEncoder\n",
    "from utils import dupplicate_record_by_quintuple\n",
    "\n",
    "cleaned_trainset = []\n",
    "for record in trainset:\n",
    "    if not record.quintuples:\n",
    "        continue\n",
    "\n",
    "    cleaned_trainset.extend(dupplicate_record_by_quintuple(record))\n",
    "\n",
    "encoder = RecordEncoder()\n",
    "\n",
    "x = [encoder.record2features(record) for record in cleaned_trainset]\n",
    "y = [encoder.record2tags(record) for record in cleaned_trainset]\n",
    "# y_Sub = [encoder.record2tags_Sub(record) for record in cleaned_trainset]\n",
    "# y_Obj = [encoder.record2tags_Obj(record) for record in cleaned_trainset]\n",
    "# y_Asp = [encoder.record2tags_Asp(record) for record in cleaned_trainset]\n",
    "# y_Pre = [encoder.record2tags_Pre(record) for record in cleaned_trainset]\n"
   ]
  },
  {
   "cell_type": "code",
   "execution_count": 16,
   "metadata": {},
   "outputs": [
    {
     "data": {
      "text/plain": [
       "['5',\n",
       " '5',\n",
       " '1',\n",
       " '1',\n",
       " '1',\n",
       " '1',\n",
       " '5',\n",
       " '5',\n",
       " '5',\n",
       " '5',\n",
       " '5',\n",
       " '5',\n",
       " '5',\n",
       " '5',\n",
       " '5',\n",
       " '5',\n",
       " '3',\n",
       " '3',\n",
       " '4',\n",
       " '4',\n",
       " '4',\n",
       " '4']"
      ]
     },
     "execution_count": 16,
     "metadata": {},
     "output_type": "execute_result"
    }
   ],
   "source": [
    "y[0]"
   ]
  },
  {
   "cell_type": "markdown",
   "metadata": {},
   "source": [
    "### <a id='toc2_2_2_'></a>[Huấn luyện model](#toc0_)"
   ]
  },
  {
   "cell_type": "code",
   "execution_count": 17,
   "metadata": {},
   "outputs": [],
   "source": [
    "from sklearn_crfsuite import CRF\n",
    "# Error keep_tempfile but keep working\n",
    "crf = CRF(\n",
    "    algorithm=\"lbfgs\",\n",
    "    c1=0.05,\n",
    "    c2=0.05,\n",
    "    max_iterations=150,\n",
    "    all_possible_transitions=False\n",
    ")\n",
    "\n",
    "try:\n",
    "    crf.fit(x, y)\n",
    "\n",
    "except: pass\n",
    "\n",
    "# crf_Sub = CRF(\n",
    "#     algorithm=\"lbfgs\",\n",
    "#     c1=0.05,\n",
    "#     c2=0.05,\n",
    "#     max_iterations=150,\n",
    "#     all_possible_transitions=False\n",
    "# )\n",
    "\n",
    "# try:\n",
    "#     crf_Sub.fit(x, y_Sub)\n",
    "\n",
    "# except: pass\n",
    "\n",
    "# crf_Obj = CRF(\n",
    "#     algorithm=\"lbfgs\",\n",
    "#     c1=0.05,\n",
    "#     c2=0.05,\n",
    "#     max_iterations=150,\n",
    "#     all_possible_transitions=False\n",
    "# )\n",
    "\n",
    "# try:\n",
    "#     crf_Obj.fit(x, y_Obj)\n",
    "\n",
    "# except: pass\n",
    "\n",
    "# crf_Asp = CRF(\n",
    "#     algorithm=\"lbfgs\",\n",
    "#     c1=0.05,\n",
    "#     c2=0.05,\n",
    "#     max_iterations=150,\n",
    "#     all_possible_transitions=False\n",
    "# )\n",
    "\n",
    "# try:\n",
    "#     crf_Asp.fit(x, y_Asp)\n",
    "\n",
    "# except: pass\n",
    "\n",
    "# crf_Pre = CRF(\n",
    "#     algorithm=\"lbfgs\",\n",
    "#     c1=0.05,\n",
    "#     c2=0.05,\n",
    "#     max_iterations=150,\n",
    "#     all_possible_transitions=False\n",
    "# )\n",
    "\n",
    "# try:\n",
    "#     crf_Pre.fit(x, y_Pre)\n",
    "\n",
    "# except: pass"
   ]
  },
  {
   "cell_type": "markdown",
   "metadata": {},
   "source": [
    "# <a id='toc3_'></a>[Pha suy luận (dự đoán)](#toc0_)"
   ]
  },
  {
   "cell_type": "markdown",
   "metadata": {},
   "source": [
    "## <a id='toc3_1_'></a>[Task 1: Liệu câu có so sánh hay không?](#toc0_)"
   ]
  },
  {
   "cell_type": "markdown",
   "metadata": {},
   "source": [
    "### <a id='toc3_1_1_'></a>[Dự đoán nhãn](#toc0_)"
   ]
  },
  {
   "cell_type": "code",
   "execution_count": 18,
   "metadata": {},
   "outputs": [
    {
     "name": "stdout",
     "output_type": "stream",
     "text": [
      "(3270, 187)\n"
     ]
    },
    {
     "data": {
      "text/plain": [
       "(3270, 9)"
      ]
     },
     "execution_count": 18,
     "metadata": {},
     "output_type": "execute_result"
    }
   ],
   "source": [
    "test_embeded_sentences = tfidf_vec.transform([record.sentence for record in testset])\n",
    "\n",
    "print(test_embeded_sentences.shape)\n",
    "\n",
    "comparative_preditions = multioutput_classifier.predict(test_embeded_sentences)\n",
    "comparative_preditions.shape\n"
   ]
  },
  {
   "cell_type": "markdown",
   "metadata": {},
   "source": [
    "### <a id='toc3_1_2_'></a>[Hậu xử lý](#toc0_)"
   ]
  },
  {
   "cell_type": "markdown",
   "metadata": {},
   "source": [
    "Decode vector về dạng string\n",
    "\n",
    "Trong trường hợp model không đưa ra label nào, ta mặc định nó không có câu so sánh (\"No\")"
   ]
  },
  {
   "cell_type": "code",
   "execution_count": 19,
   "metadata": {},
   "outputs": [
    {
     "data": {
      "text/plain": [
       "['No',\n",
       " 'No',\n",
       " 'No',\n",
       " 'No',\n",
       " 'No',\n",
       " 'No',\n",
       " 'No',\n",
       " 'No',\n",
       " 'No',\n",
       " 'No',\n",
       " 'No',\n",
       " 'COM+',\n",
       " 'No',\n",
       " 'No',\n",
       " 'No',\n",
       " 'No',\n",
       " 'No',\n",
       " 'No',\n",
       " 'No',\n",
       " 'No',\n",
       " 'COM+',\n",
       " 'No',\n",
       " 'No',\n",
       " 'No',\n",
       " 'No',\n",
       " 'No',\n",
       " 'EQL',\n",
       " 'No',\n",
       " 'COM+',\n",
       " 'No']"
      ]
     },
     "execution_count": 19,
     "metadata": {},
     "output_type": "execute_result"
    }
   ],
   "source": [
    "readable_comparative_preditions = multilabel_model.inverse_transform(comparative_preditions)\n",
    "\n",
    "formatted_comparative_predictions = []\n",
    "\n",
    "for prediction in readable_comparative_preditions:\n",
    "    if prediction:\n",
    "        if len(prediction) == 1:\n",
    "            formatted_comparative_predictions.append((prediction[0]))\n",
    "        else:\n",
    "            formatted_comparative_predictions.append(list(prediction)[0])\n",
    "    else:\n",
    "        formatted_comparative_predictions.append(\"No\")\n",
    "\n",
    "formatted_comparative_predictions[:30]"
   ]
  },
  {
   "cell_type": "code",
   "execution_count": 20,
   "metadata": {},
   "outputs": [
    {
     "data": {
      "text/plain": [
       "3270"
      ]
     },
     "execution_count": 20,
     "metadata": {},
     "output_type": "execute_result"
    }
   ],
   "source": [
    "len(formatted_comparative_predictions)"
   ]
  },
  {
   "cell_type": "markdown",
   "metadata": {},
   "source": [
    "## <a id='toc3_2_'></a>[Task 2: Chi tiết các vật thể được so sánh](#toc0_)"
   ]
  },
  {
   "cell_type": "markdown",
   "metadata": {},
   "source": [
    "### <a id='toc3_2_1_'></a>[Dự đoán](#toc0_)"
   ]
  },
  {
   "cell_type": "code",
   "execution_count": 21,
   "metadata": {},
   "outputs": [],
   "source": [
    "from processing import RecordDecoder\n",
    "\n",
    "test_featured_sentences = [encoder.record2features(record) for record in testset]\n",
    "decoder = RecordDecoder()\n",
    "predictions = crf.predict(test_featured_sentences)\n",
    "# Sub_preditions = crf_Sub.predict(test_featured_sentences)\n",
    "# Obj_preditions = crf_Obj.predict(test_featured_sentences)\n",
    "# Asp_preditions = crf_Asp.predict(test_featured_sentences)\n",
    "# Pre_preditions = crf_Pre.predict(test_featured_sentences)\n"
   ]
  },
  {
   "cell_type": "markdown",
   "metadata": {},
   "source": [
    "### <a id='toc3_2_2_'></a>[Hậu xử lý](#toc0_)"
   ]
  },
  {
   "cell_type": "code",
   "execution_count": 22,
   "metadata": {},
   "outputs": [],
   "source": [
    "readable_predictions = [[decoder.parse_tag(_id) for _id in postag_prediction] for postag_prediction in predictions]\n",
    "# readable_Sub_predictions = [[decoder.parse_tag(_id) for _id in postag_prediction] for postag_prediction in Sub_preditions]\n",
    "# readable_Obj_predictions = [[decoder.parse_tag(_id) for _id in postag_prediction] for postag_prediction in Obj_preditions]\n",
    "# readable_Asp_predictions = [[decoder.parse_tag(_id) for _id in postag_prediction] for postag_prediction in Asp_preditions]\n",
    "# readable_Pre_predictions = [[decoder.parse_tag(_id) for _id in postag_prediction] for postag_prediction in Pre_preditions]\n"
   ]
  },
  {
   "cell_type": "code",
   "execution_count": 23,
   "metadata": {},
   "outputs": [
    {
     "name": "stdout",
     "output_type": "stream",
     "text": [
      "[['O', 'O', 'O', 'O', 'Sub', 'Sub', 'O', 'O', 'O', 'O', 'O', 'O', 'O', 'O', 'O', 'O', 'O'], ['O', 'O', 'O', 'O', 'Sub', 'Sub', 'O', 'O', 'O', 'O', 'O', 'O', 'O', 'O', 'O', 'O', 'O'], ['O', 'O'], ['Sub', 'Sub', 'O', 'Obj', 'Obj', 'Obj', 'Obj', 'Obj', 'Obj', 'Obj', 'Obj', 'Obj', 'Obj', 'Obj', 'Obj', 'O', 'O', 'O', 'O', 'O', 'O', 'O', 'O', 'O', 'O', 'O', 'O', 'O', 'O', 'O', 'O', 'O', 'O', 'O', 'O', 'O', 'O', 'O', 'O', 'O'], ['O', 'O', 'O', 'O', 'O', 'O', 'O', 'O', 'O', 'O', 'Sub', 'Sub', 'Sub', 'O', 'O', 'Sub', 'Sub', 'O', 'O', 'O', 'O', 'O', 'O', 'O', 'O', 'O', 'O', 'O']]\n"
     ]
    }
   ],
   "source": [
    "print(readable_predictions[0:5])"
   ]
  },
  {
   "cell_type": "markdown",
   "metadata": {},
   "source": [
    "# <a id='toc4_'></a>[Tổng hợp và lưu dữ liệu](#toc0_)"
   ]
  },
  {
   "cell_type": "code",
   "execution_count": 24,
   "metadata": {},
   "outputs": [
    {
     "name": "stdout",
     "output_type": "stream",
     "text": [
      "Đến từ hai thương hiệu khác nhau cho nên hai chiếc điện thoại này có vẻ diện mạo hoàn toàn khác biệt nhau.\tĐến từ hai thương hiệu khác nhau cho nên hai chiếc điện thoại này có vẻ diện mạo hoàn toàn khác biệt nhau .\n",
      "\n",
      "Tuy nhiên, so sánh về thiết kế thì ưu thế sẽ nghiêng về phía iPhone 13 hơn.\tTuy nhiên , so sánh về thiết kế thì ưu thế sẽ nghiêng về phía iPhone 13 hơn .\n",
      "{\"subject\": [], \"object\": [], \"aspect\": [\"7&&thiết\", \"8&&kế\"], \"predicate\": [\"10&&ưu\", \"11&&thế\"], \"label\": \"COM+\"}\n",
      "\n",
      "Samsung Galaxy S22 sở hữu thiết kế cao cấp, mới lạ, được hoàn thiện bằng kim loại cao cấp, mặt lưng được ốp kính vô cùng tinh tế.\tSamsung Galaxy S22 sở hữu thiết kế cao cấp , mới lạ , được hoàn thiện bằng kim loại cao cấp , mặt lưng được ốp kính vô cùng tinh tế .\n",
      "\n",
      "Cụm 3 camera được xếp dọc, thẳng hàng vô cùng gọn gàng và tinh tế.\tCụm 3 camera được xếp dọc , thẳng hàng vô cùng gọn gàng và tinh tế .\n",
      "\n",
      "Chiếc Samsung này còn được trang bị màn hình đục lỗ bắt mắt cùng viền bezel các cạnh khá mỏng tạo nên tổng thể vừa trẻ trung, vừa cao cấp với các tùy chọn Đen, Trắng, Xanh và Hồng.\tChiếc Samsung này còn được trang bị màn hình đục lỗ bắt mắt cùng viền bezel các cạnh khá mỏng tạo nên tổng thể vừa trẻ trung , vừa cao cấp với các tùy chọn Đen , Trắng , Xanh và Hồng .\n",
      "\n",
      "alt: So sánh iPhone 13 và Samsung S22: Ai mới thật sự mạnh hơn?\talt : So sánh iPhone 13 và Samsung S22 : Ai mới thật sự mạnh hơn ?\n",
      "\n",
      "des:\tdes :\n",
      "\n",
      "Trong khi đó, đối thủ là iPhone 13 lại khoác lên mình diện mạo đẳng cấp, đúng chuẩn Apple.\tTrong khi đó , đối thủ là iPhone 13 lại khoác lên mình diện mạo đẳng cấp , đúng chuẩn Apple .\n",
      "\n",
      "Máy được thiết kế với phần khung kim loại cao cấp, ôm sát vào thân tạo cảm giác thanh lịch và sang trọng.\tMáy được thiết kế với phần khung kim loại cao cấp , ôm sát vào thân tạo cảm giác thanh lịch và sang trọng .\n",
      "\n",
      "Thân máy mỏng, lưng phẳng được ốp kính để tăng thêm phần sang trọng.\tThân máy mỏng , lưng phẳng được ốp kính để tăng thêm phần sang trọng .\n",
      "\n"
     ]
    }
   ],
   "source": [
    "labeled_records = [\n",
    "    decoder.label_record(\n",
    "        record, formatted_comparative_predictions[i], readable_predictions[i]#readable_Sub_predictions[i], readable_Obj_predictions[i],readable_Asp_predictions[i],readable_Pre_predictions[i]\n",
    "    )\n",
    "    for i, record in enumerate(testset)\n",
    "]\n",
    "\n",
    "for record in labeled_records[10:20]:\n",
    "    print(decoder.format_record(record), end=\"\\n\\n\")"
   ]
  },
  {
   "cell_type": "code",
   "execution_count": 25,
   "metadata": {},
   "outputs": [],
   "source": [
    "from pathlib import Path\n",
    "\n",
    "EXPORT_DIR = \"../data/export\"\n",
    "DEV_DIR = \"../data/dev/\"\n",
    "TEST_DIR = \"../data/test/\"\n",
    "sentence2record = {\n",
    "    record.original: record for record in labeled_records\n",
    "}\n",
    "\n",
    "for filepath in Path(TEST_DIR).iterdir():\n",
    "    with open(filepath, \"r\") as fd:\n",
    "        content = fd.read().strip()\n",
    "        raw_records = content.split(\"\\n\\n\")\n",
    "\n",
    "        with open(Path(EXPORT_DIR, filepath.name), \"w\") as export_fd:\n",
    "            for raw_record in raw_records:\n",
    "                sentence, tokenized_sentence = raw_record.split(\"\\t\")\n",
    "                record = sentence2record[sentence]\n",
    "    \n",
    "                print(decoder.format_record(record), end=\"\\n\\n\",file=export_fd)\n"
   ]
  }
 ],
 "metadata": {
  "kernelspec": {
   "display_name": ".venv",
   "language": "python",
   "name": "python3"
  },
  "language_info": {
   "codemirror_mode": {
    "name": "ipython",
    "version": 3
   },
   "file_extension": ".py",
   "mimetype": "text/x-python",
   "name": "python",
   "nbconvert_exporter": "python",
   "pygments_lexer": "ipython3",
   "version": "3.11.6"
  }
 },
 "nbformat": 4,
 "nbformat_minor": 2
}
